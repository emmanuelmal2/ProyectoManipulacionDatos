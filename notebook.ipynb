{
 "cells": [
  {
   "cell_type": "markdown",
   "id": "mhIvmmkW414q",
   "metadata": {
    "id": "mhIvmmkW414q"
   },
   "source": [
    "# Introducción\n",
    "\n",
    "Instacart es una plataforma de entregas de comestibles donde la clientela puede registrar un pedido y hacer que se lo entreguen, similar a Uber Eats y Door Dash.\n",
    "El conjunto de datos tiene modificaciones del original. Se redujo el tamaño del conjunto para facilitar mejorar la eficiecia en los calculos.\n"
   ]
  },
  {
   "cell_type": "markdown",
   "id": "3MbyzpOQZ5Or",
   "metadata": {
    "id": "3MbyzpOQZ5Or"
   },
   "source": [
    "## Diccionario de datos\n",
    "\n",
    "Diccionario de datos que enumera las columnas de cada tabla y describe los datos que contienen.\n",
    "\n",
    "- `instacart_orders.csv`: cada fila corresponde a un pedido en la aplicación Instacart.\n",
    "    - `'order_id'`: número de ID que identifica de manera única cada pedido.\n",
    "    - `'user_id'`: número de ID que identifica de manera única la cuenta de cada cliente.\n",
    "    - `'order_number'`: el número de veces que este cliente ha hecho un pedido.\n",
    "    - `'order_dow'`: día de la semana en que se hizo el pedido (0 si es domingo).\n",
    "    - `'order_hour_of_day'`: hora del día en que se hizo el pedido.\n",
    "    - `'days_since_prior_order'`: número de días transcurridos desde que este cliente hizo su pedido anterior.\n",
    "- `products.csv`: cada fila corresponde a un producto único que pueden comprar los clientes.\n",
    "    - `'product_id'`: número ID que identifica de manera única cada producto.\n",
    "    - `'product_name'`: nombre del producto.\n",
    "    - `'aisle_id'`: número ID que identifica de manera única cada categoría de pasillo de víveres.\n",
    "    - `'department_id'`: número ID que identifica de manera única cada departamento de víveres.\n",
    "- `order_products.csv`: cada fila corresponde a un artículo pedido en un pedido.\n",
    "    - `'order_id'`: número de ID que identifica de manera única cada pedido.\n",
    "    - `'product_id'`: número ID que identifica de manera única cada producto.\n",
    "    - `'add_to_cart_order'`: el orden secuencial en el que se añadió cada artículo en el carrito.\n",
    "    - `'reordered'`: 0 si el cliente nunca ha pedido este producto antes, 1 si lo ha pedido.\n",
    "- `aisles.csv`\n",
    "    - `'aisle_id'`: número ID que identifica de manera única cada categoría de pasillo de víveres.\n",
    "    - `'aisle'`: nombre del pasillo.\n",
    "- `departments.csv`\n",
    "    - `'department_id'`: número ID que identifica de manera única cada departamento de víveres.\n",
    "    - `'department'`: nombre del departamento."
   ]
  },
  {
   "cell_type": "markdown",
   "id": "n3Ha_cNSZ8lK",
   "metadata": {
    "id": "n3Ha_cNSZ8lK"
   },
   "source": [
    "# Paso 1. Descripción de los datos\n",
    "\n"
   ]
  },
  {
   "cell_type": "markdown",
   "id": "OmlQPLlyaAfR",
   "metadata": {
    "id": "OmlQPLlyaAfR"
   },
   "source": [
    "## Plan de solución\n",
    "\n"
   ]
  },
  {
   "cell_type": "code",
   "execution_count": 59,
   "id": "fbf1adab",
   "metadata": {
    "id": "fbf1adab"
   },
   "outputs": [],
   "source": [
    "# importar librerías\n",
    "import pandas as pd\n",
    "import matplotlib.pyplot as plt "
   ]
  },
  {
   "cell_type": "code",
   "execution_count": 60,
   "id": "ad36396d",
   "metadata": {
    "id": "ad36396d"
   },
   "outputs": [],
   "source": [
    "# leer conjuntos de datos en los DataFrames\n",
    "instacart_orders = pd.read_csv(\"datasets/instacart_orders.csv\", sep=';') \n",
    "products = pd.read_csv(\"datasets/products.csv\", sep=';') \n",
    "aisles = pd.read_csv(\"datasets/aisles.csv\", sep=';') \n",
    "departments = pd.read_csv(\"datasets/departments.csv\", sep=';') \n",
    "order_products = pd.read_csv(\"datasets/order_products.csv\", sep=';') "
   ]
  },
  {
   "cell_type": "code",
   "execution_count": 61,
   "id": "ad6a1efa",
   "metadata": {
    "id": "ad6a1efa"
   },
   "outputs": [
    {
     "name": "stdout",
     "output_type": "stream",
     "text": [
      "<class 'pandas.core.frame.DataFrame'>\n",
      "RangeIndex: 478967 entries, 0 to 478966\n",
      "Data columns (total 6 columns):\n",
      " #   Column                  Non-Null Count   Dtype  \n",
      "---  ------                  --------------   -----  \n",
      " 0   order_id                478967 non-null  int64  \n",
      " 1   user_id                 478967 non-null  int64  \n",
      " 2   order_number            478967 non-null  int64  \n",
      " 3   order_dow               478967 non-null  int64  \n",
      " 4   order_hour_of_day       478967 non-null  int64  \n",
      " 5   days_since_prior_order  450148 non-null  float64\n",
      "dtypes: float64(1), int64(5)\n",
      "memory usage: 21.9 MB\n",
      "None\n"
     ]
    }
   ],
   "source": [
    "print(instacart_orders.info(show_counts = True))# mostrar información del DataFrame"
   ]
  },
  {
   "cell_type": "code",
   "execution_count": 62,
   "id": "5130e05e",
   "metadata": {
    "id": "5130e05e"
   },
   "outputs": [
    {
     "name": "stdout",
     "output_type": "stream",
     "text": [
      "<class 'pandas.core.frame.DataFrame'>\n",
      "RangeIndex: 49694 entries, 0 to 49693\n",
      "Data columns (total 4 columns):\n",
      " #   Column         Non-Null Count  Dtype \n",
      "---  ------         --------------  ----- \n",
      " 0   product_id     49694 non-null  int64 \n",
      " 1   product_name   48436 non-null  object\n",
      " 2   aisle_id       49694 non-null  int64 \n",
      " 3   department_id  49694 non-null  int64 \n",
      "dtypes: int64(3), object(1)\n",
      "memory usage: 1.5+ MB\n",
      "None\n"
     ]
    }
   ],
   "source": [
    "print(products.info(show_counts = True)) # mostrar información del DataFrame"
   ]
  },
  {
   "cell_type": "code",
   "execution_count": 63,
   "id": "d8370c05",
   "metadata": {
    "id": "d8370c05"
   },
   "outputs": [
    {
     "name": "stdout",
     "output_type": "stream",
     "text": [
      "<class 'pandas.core.frame.DataFrame'>\n",
      "RangeIndex: 134 entries, 0 to 133\n",
      "Data columns (total 2 columns):\n",
      " #   Column    Non-Null Count  Dtype \n",
      "---  ------    --------------  ----- \n",
      " 0   aisle_id  134 non-null    int64 \n",
      " 1   aisle     134 non-null    object\n",
      "dtypes: int64(1), object(1)\n",
      "memory usage: 2.2+ KB\n",
      "None\n"
     ]
    }
   ],
   "source": [
    "print(aisles.info(show_counts = True)) # mostrar información del DataFrame"
   ]
  },
  {
   "cell_type": "code",
   "execution_count": 64,
   "id": "59e2090f",
   "metadata": {
    "id": "59e2090f"
   },
   "outputs": [
    {
     "name": "stdout",
     "output_type": "stream",
     "text": [
      "<class 'pandas.core.frame.DataFrame'>\n",
      "RangeIndex: 21 entries, 0 to 20\n",
      "Data columns (total 2 columns):\n",
      " #   Column         Non-Null Count  Dtype \n",
      "---  ------         --------------  ----- \n",
      " 0   department_id  21 non-null     int64 \n",
      " 1   department     21 non-null     object\n",
      "dtypes: int64(1), object(1)\n",
      "memory usage: 464.0+ bytes\n",
      "None\n"
     ]
    }
   ],
   "source": [
    "print(departments.info(show_counts = True)) # mostrar información del DataFrame"
   ]
  },
  {
   "cell_type": "code",
   "execution_count": 65,
   "id": "6fc81694",
   "metadata": {
    "id": "6fc81694"
   },
   "outputs": [
    {
     "name": "stdout",
     "output_type": "stream",
     "text": [
      "<class 'pandas.core.frame.DataFrame'>\n",
      "RangeIndex: 4545007 entries, 0 to 4545006\n",
      "Data columns (total 4 columns):\n",
      " #   Column             Non-Null Count    Dtype  \n",
      "---  ------             --------------    -----  \n",
      " 0   order_id           4545007 non-null  int64  \n",
      " 1   product_id         4545007 non-null  int64  \n",
      " 2   add_to_cart_order  4544171 non-null  float64\n",
      " 3   reordered          4545007 non-null  int64  \n",
      "dtypes: float64(1), int64(3)\n",
      "memory usage: 138.7 MB\n",
      "None\n"
     ]
    }
   ],
   "source": [
    "print(order_products.info(show_counts = True)) # mostrar información del DataFrame"
   ]
  },
  {
   "cell_type": "markdown",
   "id": "t75BD19oaR5f",
   "metadata": {
    "id": "t75BD19oaR5f"
   },
   "source": [
    "## Conclusiones\n",
    "\n",
    "Los DataFrames leídos están bien estructurados mediante claves como order_id, product_id, aisle_id, y department_id. Algunos datos tienen valores faltantes, como days_since_prior_order en instacart_orders y add_to_cart_order en order_products, que requerirán tratamiento. Las tablas de productos, pasillos y departamentos están completas excepto product_name, que tiene algunos nombres faltantes. "
   ]
  },
  {
   "cell_type": "markdown",
   "id": "8RJHqxVmaVsF",
   "metadata": {
    "id": "8RJHqxVmaVsF"
   },
   "source": [
    "# Paso 2. Preprocesamiento de los datos\n"
   ]
  },
  {
   "cell_type": "markdown",
   "id": "p6poABZQaZYb",
   "metadata": {
    "id": "p6poABZQaZYb"
   },
   "source": [
    "## Plan de solución\n",
    "\n",
    "\n",
    "\n",
    "- Verificar y corregir los tipos de datos:\n",
    "\n",
    "Asegurarse de que las columnas como order_id, product_id, aisle_id, department_id, y user_id estén correctamente como enteros.\n",
    "Para ello podemos convertir las columnas relevantes a enteros si están incorrectas, utilizando .astype(int) cuando sea necesario.\n",
    "\n",
    "- Identificar y completar valores ausentes:\n",
    "\n",
    "Manejar columnas con valores faltantes como: \n",
    "days_since_prior_order: Reemplazar los valores nulos con 0\n",
    "add_to_cart_order: Rellenar los valores ausentes con un valor distintivo, para representar que no se conoce el orden \n",
    "\n",
    "Para ello podemos utilizar metodos para identificar los faltantes con .isna().sum(). y usar .fillna() para rellenarlos según el contexto.\n",
    "\n",
    "- Identificar y eliminar valores duplicados:\n",
    "\n",
    "Asegurarse de que no haya filas duplicadas que distorsionen el análisis. Para ellos podemos utilizar .duplicated() para detectar duplicados en cada DataFrame y eliminarlos con .drop_duplicates() si es necesario.\n",
    "\n",
    "\n",
    "- Valores ausentes como en days_since_prior_order probablemente reflejan la ausencia de un pedido anterior para algunos clientes.\n",
    "\n",
    "- Duplicados pueden ser errores de registro o datos redundantes.\n"
   ]
  },
  {
   "cell_type": "markdown",
   "id": "07357848-dc64-4156-9cc3-01ff4365226d",
   "metadata": {
    "id": "07357848-dc64-4156-9cc3-01ff4365226d"
   },
   "source": [
    "## Encontrar y eliminar los valores duplicados"
   ]
  },
  {
   "cell_type": "markdown",
   "id": "f179f0a9",
   "metadata": {
    "id": "f179f0a9"
   },
   "source": [
    "### `instacart_orders` data frame"
   ]
  },
  {
   "cell_type": "code",
   "execution_count": 66,
   "id": "b99297a5-405a-463d-8535-9adc3da4ad74",
   "metadata": {
    "id": "b99297a5-405a-463d-8535-9adc3da4ad74"
   },
   "outputs": [
    {
     "name": "stdout",
     "output_type": "stream",
     "text": [
      "Numero de duplicados: 15\n",
      "\n",
      "        order_id  user_id  order_number  order_dow  order_hour_of_day  \\\n",
      "145574    794638    50898            24          3                  2   \n",
      "223105   2160484   107525            16          3                  2   \n",
      "230807   1918001   188546            14          3                  2   \n",
      "266232   1782114   106752             1          3                  2   \n",
      "273805   1112182   202304            84          3                  2   \n",
      "284038   2845099    31189            11          3                  2   \n",
      "311713   1021560    53767             3          3                  2   \n",
      "321100    408114    68324             4          3                  2   \n",
      "323900   1919531   191501            32          3                  2   \n",
      "345917   2232988    82565             1          3                  2   \n",
      "371905    391768    57671            19          3                  2   \n",
      "394347    467134    63189            21          3                  2   \n",
      "411408   1286742   183220            48          3                  2   \n",
      "415163   2282673    86751            49          3                  2   \n",
      "441599   2125197    14050            48          3                  2   \n",
      "\n",
      "        days_since_prior_order  \n",
      "145574                     2.0  \n",
      "223105                    30.0  \n",
      "230807                    16.0  \n",
      "266232                     NaN  \n",
      "273805                     6.0  \n",
      "284038                     7.0  \n",
      "311713                     9.0  \n",
      "321100                    18.0  \n",
      "323900                     7.0  \n",
      "345917                     NaN  \n",
      "371905                    10.0  \n",
      "394347                     2.0  \n",
      "411408                     4.0  \n",
      "415163                     2.0  \n",
      "441599                     3.0  \n"
     ]
    }
   ],
   "source": [
    "# Revisando si hay pedidos duplicados\n",
    "print(\"Numero de duplicados: {}\\n\".format(instacart_orders.duplicated().sum()))\n",
    "print(instacart_orders[instacart_orders.duplicated()])\n"
   ]
  },
  {
   "cell_type": "code",
   "execution_count": 67,
   "id": "0d44de5d",
   "metadata": {
    "id": "0d44de5d"
   },
   "outputs": [
    {
     "name": "stdout",
     "output_type": "stream",
     "text": [
      "Index(['order_id', 'user_id', 'order_number', 'order_dow', 'order_hour_of_day',\n",
      "       'days_since_prior_order'],\n",
      "      dtype='object')\n",
      "        order_id  user_id  order_number  order_dow  order_hour_of_day  \\\n",
      "4838     2766110   162084            41          3                  2   \n",
      "5156     2190225   138285            18          3                  2   \n",
      "15506     553049    58599            13          3                  2   \n",
      "18420     382357   120200            19          3                  2   \n",
      "24691     690242    77357             2          3                  2   \n",
      "...          ...      ...           ...        ...                ...   \n",
      "457013   3384021    14881             6          3                  2   \n",
      "458816    910166   164782            18          3                  2   \n",
      "459635   1680532   106435             6          3                  2   \n",
      "468324    222962    54979            59          3                  2   \n",
      "477526   2592344    46860            38          3                  2   \n",
      "\n",
      "        days_since_prior_order  \n",
      "4838                      16.0  \n",
      "5156                      11.0  \n",
      "15506                      7.0  \n",
      "18420                     11.0  \n",
      "24691                      9.0  \n",
      "...                        ...  \n",
      "457013                    30.0  \n",
      "458816                     4.0  \n",
      "459635                    21.0  \n",
      "468324                     3.0  \n",
      "477526                     3.0  \n",
      "\n",
      "[121 rows x 6 columns]\n"
     ]
    }
   ],
   "source": [
    "# Pedidos que se hicieron el miércoles a las 2:00 a.m.\n",
    "\n",
    "print(instacart_orders.columns)\n",
    "print(instacart_orders[(instacart_orders[\"order_dow\"] == 3) & (instacart_orders[\"order_hour_of_day\"] == 2)])\n",
    "\n"
   ]
  },
  {
   "cell_type": "markdown",
   "id": "vu2OWyoqwOx5",
   "metadata": {
    "id": "vu2OWyoqwOx5"
   },
   "source": [
    "¿Qué sugiere este resultado? Que existen mas duplicados en ese dia y hora"
   ]
  },
  {
   "cell_type": "code",
   "execution_count": 68,
   "id": "480563c7",
   "metadata": {
    "id": "480563c7"
   },
   "outputs": [],
   "source": [
    "# Elimina los pedidos duplicados\n",
    "instacart_orders = instacart_orders.drop_duplicates()"
   ]
  },
  {
   "cell_type": "code",
   "execution_count": 69,
   "id": "0b2396a2",
   "metadata": {
    "id": "0b2396a2"
   },
   "outputs": [
    {
     "name": "stdout",
     "output_type": "stream",
     "text": [
      "Empty DataFrame\n",
      "Columns: [order_id, user_id, order_number, order_dow, order_hour_of_day, days_since_prior_order]\n",
      "Index: []\n"
     ]
    }
   ],
   "source": [
    "# Volviendo a verificar si hay filas duplicadas\n",
    "print(instacart_orders[instacart_orders.duplicated()])\n"
   ]
  },
  {
   "cell_type": "code",
   "execution_count": 70,
   "id": "f6113ef1",
   "metadata": {
    "id": "f6113ef1"
   },
   "outputs": [
    {
     "name": "stdout",
     "output_type": "stream",
     "text": [
      "Empty DataFrame\n",
      "Columns: [order_id, user_id, order_number, order_dow, order_hour_of_day, days_since_prior_order]\n",
      "Index: []\n"
     ]
    }
   ],
   "source": [
    "# Volviendo a verificar si hay IDs duplicados de pedidos\n",
    "print(instacart_orders[instacart_orders['order_id'].duplicated()])"
   ]
  },
  {
   "cell_type": "markdown",
   "id": "5e8905ae",
   "metadata": {
    "id": "5e8905ae"
   },
   "source": [
    "Los duplicados encontrados en el DataFrame eran filas redundantes que se repitieron exactamente. Estos duplicados podrían haberse originado por errores en la recolección de datos el miércoles a las 2:00 a.m."
   ]
  },
  {
   "cell_type": "markdown",
   "id": "45e6bc46",
   "metadata": {
    "id": "45e6bc46"
   },
   "source": [
    "### `products` data frame"
   ]
  },
  {
   "cell_type": "code",
   "execution_count": 71,
   "id": "5f526b5b-8175-46fa-a0fd-441767d50e64",
   "metadata": {
    "id": "5f526b5b-8175-46fa-a0fd-441767d50e64"
   },
   "outputs": [
    {
     "name": "stdout",
     "output_type": "stream",
     "text": [
      "Numero de duplicados: 0\n",
      "\n",
      "Empty DataFrame\n",
      "Columns: [product_id, product_name, aisle_id, department_id]\n",
      "Index: []\n"
     ]
    }
   ],
   "source": [
    "# Verificando si hay filas totalmente duplicadas\n",
    "print(\"Numero de duplicados: {}\\n\".format(products.duplicated().sum()))\n",
    "print(products[products.duplicated()])"
   ]
  },
  {
   "cell_type": "code",
   "execution_count": 72,
   "id": "88daa4f4",
   "metadata": {
    "id": "88daa4f4"
   },
   "outputs": [
    {
     "name": "stdout",
     "output_type": "stream",
     "text": [
      "Empty DataFrame\n",
      "Columns: [product_id, product_name, aisle_id, department_id]\n",
      "Index: []\n"
     ]
    }
   ],
   "source": [
    "# Verificando si hay IDs duplicadas de productos\n",
    "print(products[products['product_id'].duplicated()])"
   ]
  },
  {
   "cell_type": "code",
   "execution_count": 73,
   "id": "c773f0bf",
   "metadata": {
    "id": "c773f0bf"
   },
   "outputs": [
    {
     "name": "stdout",
     "output_type": "stream",
     "text": [
      "       product_id                                     product_name  aisle_id  \\\n",
      "71             72                                              NaN       100   \n",
      "109           110                                              NaN       100   \n",
      "296           297                                              NaN       100   \n",
      "416           417                                              NaN       100   \n",
      "436           437                                              NaN       100   \n",
      "...           ...                                              ...       ...   \n",
      "49689       49690                    HIGH PERFORMANCE ENERGY DRINK        64   \n",
      "49690       49691                    ORIGINAL PANCAKE & WAFFLE MIX       130   \n",
      "49691       49692  ORGANIC INSTANT OATMEAL LIGHT MAPLE BROWN SUGAR       130   \n",
      "49692       49693                           SPRING WATER BODY WASH       127   \n",
      "49693       49694                          BURRITO- STEAK & CHEESE        38   \n",
      "\n",
      "       department_id  \n",
      "71                21  \n",
      "109               21  \n",
      "296               21  \n",
      "416               21  \n",
      "436               21  \n",
      "...              ...  \n",
      "49689              7  \n",
      "49690             14  \n",
      "49691             14  \n",
      "49692             11  \n",
      "49693              1  \n",
      "\n",
      "[1361 rows x 4 columns]\n"
     ]
    }
   ],
   "source": [
    "# Revisando si hay nombres duplicados de productos\n",
    "\n",
    "products['product_name'] = products['product_name'].str.upper()\n",
    "print(products[products['product_name'].duplicated()])"
   ]
  },
  {
   "cell_type": "code",
   "execution_count": null,
   "id": "b63b0959",
   "metadata": {},
   "outputs": [
    {
     "name": "stdout",
     "output_type": "stream",
     "text": [
      "       product_id                                     product_name  aisle_id  \\\n",
      "2058         2059                                  BIOTIN 1000 MCG        47   \n",
      "5455         5456                 GREEN TEA WITH GINSENG AND HONEY        96   \n",
      "5558         5559                           CREAM OF MUSHROOM SOUP        69   \n",
      "7558         7559                        CINNAMON ROLLS WITH ICING       105   \n",
      "9037         9038                           AMERICAN CHEESE SLICES        21   \n",
      "...           ...                                              ...       ...   \n",
      "49689       49690                    HIGH PERFORMANCE ENERGY DRINK        64   \n",
      "49690       49691                    ORIGINAL PANCAKE & WAFFLE MIX       130   \n",
      "49691       49692  ORGANIC INSTANT OATMEAL LIGHT MAPLE BROWN SUGAR       130   \n",
      "49692       49693                           SPRING WATER BODY WASH       127   \n",
      "49693       49694                          BURRITO- STEAK & CHEESE        38   \n",
      "\n",
      "       department_id  \n",
      "2058              11  \n",
      "5455              20  \n",
      "5558              15  \n",
      "7558              13  \n",
      "9037              16  \n",
      "...              ...  \n",
      "49689              7  \n",
      "49690             14  \n",
      "49691             14  \n",
      "49692             11  \n",
      "49693              1  \n",
      "\n",
      "[104 rows x 4 columns]"
     ]
    },
    {
     "name": "stdout",
     "output_type": "stream",
     "text": [
      "\n"
     ]
    }
   ],
   "source": [
    "# Revisando si hay nombres duplicados de productos no faltantes\n",
    "\n",
    "# Filtrar filas donde 'product_name' no es nulo\n",
    "productos_no_faltantes = products[products['product_name'].notna()]\n",
    "\n",
    "\n",
    "print(productos_no_faltantes[productos_no_faltantes['product_name'].duplicated()])\n"
   ]
  },
  {
   "cell_type": "code",
   "execution_count": 75,
   "id": "19fa3b7f",
   "metadata": {},
   "outputs": [
    {
     "name": "stdout",
     "output_type": "stream",
     "text": [
      "Index(['product_id', 'product_name', 'aisle_id', 'department_id'], dtype='object')\n"
     ]
    }
   ],
   "source": [
    "# Eliminando los duplicados\n",
    "print(products.columns)\n",
    "products = products.drop_duplicates(subset=['product_name'])\n"
   ]
  },
  {
   "cell_type": "code",
   "execution_count": 76,
   "id": "f23ae630",
   "metadata": {},
   "outputs": [
    {
     "name": "stdout",
     "output_type": "stream",
     "text": [
      "Empty DataFrame\n",
      "Columns: [product_id, product_name, aisle_id, department_id]\n",
      "Index: []\n"
     ]
    }
   ],
   "source": [
    "# Verificando que se eliminaron\n",
    "print(products[products['product_name'].duplicated()])"
   ]
  },
  {
   "cell_type": "markdown",
   "id": "60f30db1",
   "metadata": {
    "id": "60f30db1"
   },
   "source": [
    "### `departments` data frame"
   ]
  },
  {
   "cell_type": "code",
   "execution_count": null,
   "id": "fb410ad4-0fbf-4b80-bb09-23fdea79afe3",
   "metadata": {
    "id": "fb410ad4-0fbf-4b80-bb09-23fdea79afe3",
    "scrolled": true
   },
   "outputs": [
    {
     "name": "stdout",
     "output_type": "stream",
     "text": [
      "Empty DataFrame\n",
      "Columns: [department_id, department]\n",
      "Index: []\n"
     ]
    }
   ],
   "source": [
    "# Revisando si hay filas totalmente duplicadas\n",
    "print(departments[departments.duplicated()])"
   ]
  },
  {
   "cell_type": "code",
   "execution_count": null,
   "id": "332b12bb",
   "metadata": {
    "id": "332b12bb"
   },
   "outputs": [
    {
     "name": "stdout",
     "output_type": "stream",
     "text": [
      "Empty DataFrame\n",
      "Columns: [department_id, department]\n",
      "Index: []\n"
     ]
    }
   ],
   "source": [
    "# Revisando si hay IDs duplicadas de productos\n",
    "print(departments[departments['department_id'].duplicated()])"
   ]
  },
  {
   "cell_type": "markdown",
   "id": "bd30d78e",
   "metadata": {
    "id": "bd30d78e"
   },
   "source": [
    "No habian duplicados"
   ]
  },
  {
   "cell_type": "markdown",
   "id": "889349c1",
   "metadata": {
    "id": "889349c1"
   },
   "source": [
    "### `aisles` data frame"
   ]
  },
  {
   "cell_type": "code",
   "execution_count": 131,
   "id": "9da89fb9-4679-40f5-ad0d-c34df753a3f8",
   "metadata": {
    "id": "9da89fb9-4679-40f5-ad0d-c34df753a3f8"
   },
   "outputs": [
    {
     "name": "stdout",
     "output_type": "stream",
     "text": [
      "Empty DataFrame\n",
      "Columns: [aisle_id, aisle]\n",
      "Index: []\n"
     ]
    }
   ],
   "source": [
    "# Revisando si hay filas totalmente duplicadas\n",
    "print(aisles[aisles.duplicated()])"
   ]
  },
  {
   "cell_type": "code",
   "execution_count": 132,
   "id": "da7c2822",
   "metadata": {
    "id": "da7c2822"
   },
   "outputs": [
    {
     "name": "stdout",
     "output_type": "stream",
     "text": [
      "Empty DataFrame\n",
      "Columns: [aisle_id, aisle]\n",
      "Index: []\n"
     ]
    }
   ],
   "source": [
    "# Revisando si hay IDs duplicadas de productos\n",
    "print(aisles[aisles['aisle_id'].duplicated()])"
   ]
  },
  {
   "cell_type": "markdown",
   "id": "ac63826f",
   "metadata": {
    "id": "ac63826f"
   },
   "source": [
    " No habian duplicados"
   ]
  },
  {
   "cell_type": "markdown",
   "id": "274cd06a",
   "metadata": {
    "id": "274cd06a"
   },
   "source": [
    "### `order_products` data frame"
   ]
  },
  {
   "cell_type": "code",
   "execution_count": 133,
   "id": "52326689-84a8-4b8f-a881-7c68780f62c9",
   "metadata": {
    "id": "52326689-84a8-4b8f-a881-7c68780f62c9"
   },
   "outputs": [
    {
     "name": "stdout",
     "output_type": "stream",
     "text": [
      "Empty DataFrame\n",
      "Columns: [order_id, product_id, add_to_cart_order, reordered]\n",
      "Index: []\n"
     ]
    }
   ],
   "source": [
    "# Revisando si hay filas totalmente duplicadas\n",
    "print(order_products[order_products.duplicated()])"
   ]
  },
  {
   "cell_type": "code",
   "execution_count": null,
   "id": "7b861391",
   "metadata": {
    "id": "7b861391"
   },
   "outputs": [
    {
     "name": "stdout",
     "output_type": "stream",
     "text": [
      "         order_id  product_id  add_to_cart_order  reordered\n",
      "367       2867619       48094                9.0          0\n",
      "824        844425       39408               10.0          1\n",
      "1124      3319857       37067               19.0          0\n",
      "1258      1038788       12471               14.0          0\n",
      "1303      2825714       44632               16.0          1\n",
      "...           ...         ...                ...        ...\n",
      "4545002    577211       15290               12.0          1\n",
      "4545003   1219554       21914                9.0          0\n",
      "4545004    692640       47766                4.0          1\n",
      "4545005    319435         691                8.0          1\n",
      "4545006   1398151       28733                9.0          0\n",
      "\n",
      "[4094961 rows x 4 columns]\n",
      "         order_id  product_id  add_to_cart_order  reordered\n",
      "209       2867619       21616               13.0          0\n",
      "367       2867619       48094                9.0          0\n",
      "588554    2867619       10199                8.0          1\n",
      "597172    2867619       46900               22.0          0\n",
      "1581682   2867619       40078                7.0          1\n",
      "1790435   2867619       34190               10.0          0\n",
      "1905810   2867619       45788               18.0          0\n",
      "1910919   2867619       34786               15.0          0\n",
      "1916515   2867619       43662               24.0          0\n",
      "2160728   2867619       27093               23.0          0\n",
      "2221506   2867619       21603                6.0          0\n",
      "2407249   2867619       37642               16.0          0\n",
      "2531634   2867619       30059               14.0          0\n",
      "2777070   2867619       26451               21.0          0\n",
      "2817544   2867619       39877               11.0          0\n",
      "3319736   2867619       23254               12.0          1\n",
      "3795104   2867619       42374                5.0          0\n",
      "3892938   2867619       21137               25.0          1\n",
      "4047748   2867619        5115                1.0          0\n",
      "4134254   2867619       43961               19.0          0\n",
      "4257282   2867619       15649               20.0          0\n",
      "4289159   2867619       24852                3.0          1\n",
      "4312552   2867619       39245                2.0          0\n",
      "4434568   2867619       30450                4.0          0\n",
      "4541477   2867619        1540               17.0          0\n"
     ]
    }
   ],
   "source": [
    "# Volviendo a verificar si hay cualquier otro duplicado engañoso\n",
    "print(order_products[order_products['order_id'].duplicated()])\n",
    "\n",
    "\n",
    "print(order_products[order_products['order_id'] == 2867619])\n",
    "\n"
   ]
  },
  {
   "cell_type": "markdown",
   "id": "0b890492",
   "metadata": {
    "id": "0b890492"
   },
   "source": [
    "Como existen duplicados en la orden se eliminan"
   ]
  },
  {
   "cell_type": "code",
   "execution_count": 83,
   "id": "9a72a7bd",
   "metadata": {},
   "outputs": [],
   "source": [
    "# Eliminando los duplicados\n",
    "\n",
    "order_products = order_products.drop_duplicates(subset=['order_id'])"
   ]
  },
  {
   "cell_type": "code",
   "execution_count": 84,
   "id": "3fb1f9d1",
   "metadata": {},
   "outputs": [
    {
     "name": "stdout",
     "output_type": "stream",
     "text": [
      "Empty DataFrame\n",
      "Columns: [order_id, product_id, add_to_cart_order, reordered]\n",
      "Index: []\n"
     ]
    }
   ],
   "source": [
    "# Verificando que se eliminaron\n",
    "print(order_products[order_products['order_id'].duplicated()])"
   ]
  },
  {
   "cell_type": "markdown",
   "id": "1e46de76",
   "metadata": {
    "id": "1e46de76"
   },
   "source": [
    "## Encuentra y elimina los valores ausentes\n",
    "\n",
    "Al trabajar con valores duplicados, pudimos observar que también nos falta investigar valores ausentes:\n",
    "\n",
    "* La columna `'product_name'` de la tabla products.\n",
    "* La columna `'days_since_prior_order'` de la tabla orders.\n",
    "* La columna `'add_to_cart_order'` de la tabla order_productos."
   ]
  },
  {
   "cell_type": "markdown",
   "id": "c0aebd78",
   "metadata": {
    "id": "c0aebd78"
   },
   "source": [
    "### `products` data frame"
   ]
  },
  {
   "cell_type": "code",
   "execution_count": null,
   "id": "fe4a8b0f",
   "metadata": {
    "id": "fe4a8b0f"
   },
   "outputs": [
    {
     "name": "stdout",
     "output_type": "stream",
     "text": [
      "1\n",
      "    product_id product_name  aisle_id  department_id\n",
      "37          38          NaN       100             21\n"
     ]
    }
   ],
   "source": [
    "# Encontrando los valores ausentes en la columna 'product_name'\n",
    "\n",
    "print(products['product_name'].isna().sum())\n",
    "print(products[products['product_name'].isna()])"
   ]
  },
  {
   "cell_type": "code",
   "execution_count": 86,
   "id": "e96167bc",
   "metadata": {
    "id": "e96167bc"
   },
   "outputs": [
    {
     "name": "stdout",
     "output_type": "stream",
     "text": [
      "    product_id product_name  aisle_id  department_id\n",
      "37          38          NaN       100             21\n"
     ]
    }
   ],
   "source": [
    "#  ¿Todos los nombres de productos ausentes están relacionados con el pasillo con ID 100?\n",
    "print(products[products['aisle_id'] == 100])"
   ]
  },
  {
   "cell_type": "code",
   "execution_count": 87,
   "id": "8fd0a541",
   "metadata": {
    "id": "8fd0a541"
   },
   "outputs": [
    {
     "name": "stdout",
     "output_type": "stream",
     "text": [
      "    product_id product_name  aisle_id  department_id\n",
      "37          38          NaN       100             21\n"
     ]
    }
   ],
   "source": [
    "# ¿Todos los nombres de productos ausentes están relacionados con el departamento con ID 21?\n",
    "print(products[products['department_id'] == 21])"
   ]
  },
  {
   "cell_type": "code",
   "execution_count": null,
   "id": "325c3464",
   "metadata": {
    "id": "325c3464"
   },
   "outputs": [
    {
     "name": "stdout",
     "output_type": "stream",
     "text": [
      "Información del pasillo con ID 100:\n",
      "    aisle_id    aisle\n",
      "99       100  missing\n",
      "\n",
      "Información del departamento con ID 21:\n",
      "    department_id department\n",
      "20             21    missing\n"
     ]
    }
   ],
   "source": [
    "# Usando las tablas department y aisle para revisar los datos del pasillo con ID 100 y el departamento con ID 21.\n",
    "\n",
    "aisle_info = aisles[aisles['aisle_id'] == 100]\n",
    "print(\"Información del pasillo con ID 100:\")\n",
    "print(aisle_info)\n",
    "\n",
    "\n",
    "department_info = departments[departments['department_id'] == 21]\n",
    "print(\"\\nInformación del departamento con ID 21:\")\n",
    "print(department_info)\n"
   ]
  },
  {
   "cell_type": "markdown",
   "id": "nqhSTUPhhvEJ",
   "metadata": {
    "id": "nqhSTUPhhvEJ"
   },
   "source": [
    "En el pasllo con id 100 no tiene nombre y el departamento con id 21 no tiene nombre también."
   ]
  },
  {
   "cell_type": "code",
   "execution_count": 134,
   "id": "6b295120",
   "metadata": {
    "id": "6b295120"
   },
   "outputs": [
    {
     "name": "stdout",
     "output_type": "stream",
     "text": [
      "Valores ausentes restantes en 'product_name':\n",
      "0\n"
     ]
    }
   ],
   "source": [
    "# Completando los nombres de productos ausentes con 'Unknown'\n",
    "products['product_name'].fillna('Unknown', inplace=True)\n",
    "\n",
    "# Verificando que no queden valores ausentes\n",
    "print(\"Valores ausentes restantes en 'product_name':\")\n",
    "print(products['product_name'].isna().sum())"
   ]
  },
  {
   "cell_type": "markdown",
   "id": "fc70e5ad",
   "metadata": {
    "id": "fc70e5ad"
   },
   "source": [
    "Dado que solo hay un valor ausente, es manejable y se puede rellenar con un valor genérico ('Unknown') o investigar más a fondo para determinar el nombre real del producto."
   ]
  },
  {
   "cell_type": "markdown",
   "id": "7eb45c86",
   "metadata": {
    "id": "7eb45c86"
   },
   "source": [
    "### `orders` data frame"
   ]
  },
  {
   "cell_type": "code",
   "execution_count": null,
   "id": "93e41d96",
   "metadata": {
    "id": "93e41d96"
   },
   "outputs": [
    {
     "name": "stdout",
     "output_type": "stream",
     "text": [
      "Numero de valores ausentes: order_id                      0\n",
      "user_id                       0\n",
      "order_number                  0\n",
      "order_dow                     0\n",
      "order_hour_of_day             0\n",
      "days_since_prior_order    28817\n",
      "dtype: int64\n",
      "\n",
      "        order_id  user_id  order_number  order_dow  order_hour_of_day  \\\n",
      "28        133707   182261             1          3                 10   \n",
      "96        787445    25685             1          6                 18   \n",
      "100       294410   111449             1          0                 19   \n",
      "103      2869915   123958             1          4                 16   \n",
      "104      2521921    42286             1          3                 18   \n",
      "...          ...      ...           ...        ...                ...   \n",
      "478895   2589657   205028             1          0                 16   \n",
      "478896   2222353   141211             1          2                 13   \n",
      "478922   2272807   204154             1          1                 15   \n",
      "478926   2499542    68810             1          4                 19   \n",
      "478945   1387033    22496             1          5                 14   \n",
      "\n",
      "        days_since_prior_order  \n",
      "28                         NaN  \n",
      "96                         NaN  \n",
      "100                        NaN  \n",
      "103                        NaN  \n",
      "104                        NaN  \n",
      "...                        ...  \n",
      "478895                     NaN  \n",
      "478896                     NaN  \n",
      "478922                     NaN  \n",
      "478926                     NaN  \n",
      "478945                     NaN  \n",
      "\n",
      "[28817 rows x 6 columns]\n"
     ]
    }
   ],
   "source": [
    "# Encontrando los valores ausentes\n",
    "print(\"Numero de valores ausentes: {}\\n\".format(instacart_orders.isna().sum()))\n",
    "valores_ausentes = instacart_orders[instacart_orders['days_since_prior_order'].isna()]\n",
    "print(valores_ausentes )"
   ]
  },
  {
   "cell_type": "code",
   "execution_count": 91,
   "id": "166e5a86",
   "metadata": {
    "id": "166e5a86"
   },
   "outputs": [
    {
     "name": "stdout",
     "output_type": "stream",
     "text": [
      "28        True\n",
      "96        True\n",
      "100       True\n",
      "103       True\n",
      "104       True\n",
      "          ... \n",
      "478895    True\n",
      "478896    True\n",
      "478922    True\n",
      "478926    True\n",
      "478945    True\n",
      "Name: order_number, Length: 28817, dtype: bool\n"
     ]
    }
   ],
   "source": [
    "# ¿Hay algún valor ausente que no sea el primer pedido del cliente?\n",
    "print(valores_ausentes['order_number'] == 1)"
   ]
  },
  {
   "cell_type": "markdown",
   "id": "4e23d089",
   "metadata": {
    "id": "4e23d089"
   },
   "source": [
    "Dado que estos pedidos no tienen un pedido anterior, no existe un valor para el tiempo transcurrido desde el pedido anterior por lo que llenarlos con 0 es una buena opción."
   ]
  },
  {
   "cell_type": "code",
   "execution_count": 135,
   "id": "7c00f9fc",
   "metadata": {},
   "outputs": [
    {
     "name": "stderr",
     "output_type": "stream",
     "text": [
      "C:\\Users\\emman\\AppData\\Local\\Temp\\ipykernel_18544\\3852965177.py:2: FutureWarning: A value is trying to be set on a copy of a DataFrame or Series through chained assignment using an inplace method.\n",
      "The behavior will change in pandas 3.0. This inplace method will never work because the intermediate object on which we are setting values always behaves as a copy.\n",
      "\n",
      "For example, when doing 'df[col].method(value, inplace=True)', try using 'df.method({col: value}, inplace=True)' or df[col] = df[col].method(value) instead, to perform the operation inplace on the original object.\n",
      "\n",
      "\n",
      "  instacart_orders['days_since_prior_order'].fillna(0, inplace=True)\n"
     ]
    }
   ],
   "source": [
    "# Reemplazando valores ausentes con 0\n",
    "instacart_orders['days_since_prior_order'].fillna(0, inplace=True)"
   ]
  },
  {
   "cell_type": "code",
   "execution_count": 93,
   "id": "00f96713",
   "metadata": {},
   "outputs": [
    {
     "name": "stdout",
     "output_type": "stream",
     "text": [
      "     order_id  user_id  order_number  order_dow  order_hour_of_day  \\\n",
      "28     133707   182261             1          3                 10   \n",
      "96     787445    25685             1          6                 18   \n",
      "100    294410   111449             1          0                 19   \n",
      "103   2869915   123958             1          4                 16   \n",
      "104   2521921    42286             1          3                 18   \n",
      "\n",
      "     days_since_prior_order  \n",
      "28                      0.0  \n",
      "96                      0.0  \n",
      "100                     0.0  \n",
      "103                     0.0  \n",
      "104                     0.0  \n"
     ]
    }
   ],
   "source": [
    "# Mostrar filas donde 'order_number' es 1 y verificar que no hay valores ausentes\n",
    "print(instacart_orders[instacart_orders['order_number'] == 1].head())\n"
   ]
  },
  {
   "cell_type": "markdown",
   "id": "69dc9ca4",
   "metadata": {
    "id": "69dc9ca4"
   },
   "source": [
    "### `order_products` data frame"
   ]
  },
  {
   "cell_type": "code",
   "execution_count": null,
   "id": "b8240253",
   "metadata": {
    "id": "b8240253"
   },
   "outputs": [
    {
     "name": "stdout",
     "output_type": "stream",
     "text": [
      "        order_id  product_id  add_to_cart_order  reordered\n",
      "737      2449164        5068                NaN          0\n",
      "9926     1968313       43867                NaN          0\n",
      "14394    2926893       11688                NaN          0\n",
      "16418    1717990        4142                NaN          0\n",
      "30114    1959075       42828                NaN          1\n",
      "34183     844733       32717                NaN          0\n",
      "57981      61355        5322                NaN          0\n",
      "79239     293169       44628                NaN          0\n",
      "86905    2849370       37131                NaN          0\n",
      "110274   3347453       47175                NaN          0\n",
      "120841    165801        4137                NaN          0\n"
     ]
    }
   ],
   "source": [
    "# Encontrando los valores ausentes\n",
    "print(order_products[order_products['add_to_cart_order'].isna()])"
   ]
  },
  {
   "cell_type": "code",
   "execution_count": 95,
   "id": "9a78e5ee",
   "metadata": {
    "id": "9a78e5ee"
   },
   "outputs": [
    {
     "name": "stdout",
     "output_type": "stream",
     "text": [
      "Maximo: 63.0\n",
      "Minimo: 1.0\n"
     ]
    }
   ],
   "source": [
    "# ¿Cuáles son los valores mínimos y máximos en esta columna?\n",
    "print(\"Maximo: {}\".format(order_products['add_to_cart_order'].max()))\n",
    "print(\"Minimo: {}\".format(order_products['add_to_cart_order'].min()))"
   ]
  },
  {
   "cell_type": "markdown",
   "id": "-Z2Ja215jW78",
   "metadata": {
    "id": "-Z2Ja215jW78"
   },
   "source": [
    "Existen valores ausentes en la columna y estas filas corresponden a pedidos específicos con valores NaN en la posición de adición al carrito. El valor mínimo es 1 y el valor máximo es 63, indicando que hay pedidos con hasta 63 productos en el carrito."
   ]
  },
  {
   "cell_type": "code",
   "execution_count": null,
   "id": "ab9d0c2b",
   "metadata": {
    "id": "ab9d0c2b"
   },
   "outputs": [
    {
     "name": "stdout",
     "output_type": "stream",
     "text": [
      "        order_id  product_id  add_to_cart_order  reordered\n",
      "737      2449164        5068                NaN          0\n",
      "9926     1968313       43867                NaN          0\n",
      "14394    2926893       11688                NaN          0\n",
      "16418    1717990        4142                NaN          0\n",
      "30114    1959075       42828                NaN          1\n",
      "34183     844733       32717                NaN          0\n",
      "57981      61355        5322                NaN          0\n",
      "79239     293169       44628                NaN          0\n",
      "86905    2849370       37131                NaN          0\n",
      "110274   3347453       47175                NaN          0\n",
      "120841    165801        4137                NaN          0\n",
      "\n",
      "[2449164 1968313 2926893 1717990 1959075  844733   61355  293169 2849370\n",
      " 3347453  165801]\n"
     ]
    }
   ],
   "source": [
    "# Guardando todas las IDs de pedidos que tengan un valor ausente en 'add_to_cart_order'\n",
    "\n",
    "valores_nulos = order_products[order_products['add_to_cart_order'].isna()]\n",
    "print(valores_nulos)\n",
    "print()\n",
    "\n",
    "# Extrayendo las IDs de pedidos con valores ausentes\n",
    "missing_order_ids = valores_nulos['order_id'].unique()\n",
    "print(missing_order_ids)"
   ]
  },
  {
   "cell_type": "code",
   "execution_count": 97,
   "id": "7a98dfb1",
   "metadata": {},
   "outputs": [
    {
     "name": "stdout",
     "output_type": "stream",
     "text": [
      "        order_id  product_id  add_to_cart_order  reordered\n",
      "737      2449164        5068                NaN          0\n",
      "9926     1968313       43867                NaN          0\n",
      "14394    2926893       11688                NaN          0\n",
      "16418    1717990        4142                NaN          0\n",
      "30114    1959075       42828                NaN          1\n",
      "34183     844733       32717                NaN          0\n",
      "57981      61355        5322                NaN          0\n",
      "79239     293169       44628                NaN          0\n",
      "86905    2849370       37131                NaN          0\n",
      "110274   3347453       47175                NaN          0\n",
      "120841    165801        4137                NaN          0\n"
     ]
    }
   ],
   "source": [
    "# Filtrando el dataframe original\n",
    "print(order_products[order_products['order_id'].isin(missing_order_ids)])"
   ]
  },
  {
   "cell_type": "code",
   "execution_count": null,
   "id": "54c31695",
   "metadata": {
    "id": "54c31695"
   },
   "outputs": [
    {
     "name": "stdout",
     "output_type": "stream",
     "text": [
      "order_id\n",
      "61355      1\n",
      "165801     1\n",
      "293169     1\n",
      "844733     1\n",
      "1717990    1\n",
      "1959075    1\n",
      "1968313    1\n",
      "2449164    1\n",
      "2849370    1\n",
      "2926893    1\n",
      "3347453    1\n",
      "Name: product_id, dtype: int64\n",
      "Cantidad minima de productos en un solo pedido: 1\n"
     ]
    }
   ],
   "source": [
    "# ¿Todos los pedidos con valores ausentes tienen más de 64 productos?\n",
    "# Agrupando todos los pedidos con datos ausentes por su ID de pedido.\n",
    "filtered_orders = order_products[order_products['order_id'].isin(missing_order_ids)].reset_index()\n",
    "# Contando el número de 'product_id' en cada pedido y revisando el valor mínimo del conteo.\n",
    "product_counts = filtered_orders.groupby('order_id')['product_id'].count()\n",
    "\n",
    "print(product_counts )\n",
    "\n",
    "print('Cantidad minima de productos en un solo pedido: {}'.format(product_counts.min()))"
   ]
  },
  {
   "cell_type": "markdown",
   "id": "p9V6pddtjglj",
   "metadata": {
    "id": "p9V6pddtjglj"
   },
   "source": [
    "\n",
    "El resultado muestra que los pedidos con valores ausentes en 'add_to_cart_order' incluyen pedidos pequeños (de solo un producto)"
   ]
  },
  {
   "cell_type": "code",
   "execution_count": null,
   "id": "7a987d08",
   "metadata": {
    "id": "7a987d08"
   },
   "outputs": [
    {
     "name": "stderr",
     "output_type": "stream",
     "text": [
      "C:\\Users\\emman\\AppData\\Local\\Temp\\ipykernel_18544\\4200152244.py:2: FutureWarning: A value is trying to be set on a copy of a DataFrame or Series through chained assignment using an inplace method.\n",
      "The behavior will change in pandas 3.0. This inplace method will never work because the intermediate object on which we are setting values always behaves as a copy.\n",
      "\n",
      "For example, when doing 'df[col].method(value, inplace=True)', try using 'df.method({col: value}, inplace=True)' or df[col] = df[col].method(value) instead, to perform the operation inplace on the original object.\n",
      "\n",
      "\n",
      "  order_products['add_to_cart_order'].fillna(999, inplace=True)\n"
     ]
    }
   ],
   "source": [
    "# Remplazando los valores ausentes en la columna 'add_to_cart? con 999 y convierte la columna al tipo entero.\n",
    "order_products['add_to_cart_order'].fillna(999, inplace=True)\n",
    "\n",
    "# Convertir la columna al tipo entero\n",
    "order_products['add_to_cart_order'] = order_products['add_to_cart_order'].astype(int)\n",
    "\n"
   ]
  },
  {
   "cell_type": "markdown",
   "id": "fea4bcc7",
   "metadata": {
    "id": "fea4bcc7"
   },
   "source": [
    "Los valores NaN en la columna 'add_to_cart_order' fueron reemplazados por 999. Este valor se eligió porque es fácil de identificar e indica un dato faltante. Por otro lado, La columna fue convertida al tipo entero (int) para garantizar que todos los valores sean números enteros, ya que representan posiciones en el carrito."
   ]
  },
  {
   "cell_type": "markdown",
   "id": "RnplPFY1gSrb",
   "metadata": {
    "id": "RnplPFY1gSrb"
   },
   "source": [
    "## Conclusiones\n",
    "\n",
    "Durante el preprocesamiento, se verificaron y corrigieron los tipos de datos, asegurando consistencia en columnas clave. Se trataron valores ausentes en days_since_prior_order, reemplazándolos por 0 para indicar el primer pedido, y en add_to_cart_order, asignando 999 para marcar un orden desconocido. Además, se eliminaron 15 duplicados en instacart_orders, los cuales estaban relacionados con pedidos registrados el miércoles a las 2:00 a.m. "
   ]
  },
  {
   "cell_type": "markdown",
   "id": "UjrOIwTcz3ri",
   "metadata": {
    "id": "UjrOIwTcz3ri"
   },
   "source": [
    "# Paso 3. Análisis de los datos\n",
    "\n"
   ]
  },
  {
   "cell_type": "markdown",
   "id": "short-capability",
   "metadata": {
    "id": "short-capability"
   },
   "source": [
    "### Verificando que los valores sean sensibles"
   ]
  },
  {
   "cell_type": "code",
   "execution_count": 100,
   "id": "growing-fruit",
   "metadata": {
    "id": "growing-fruit"
   },
   "outputs": [
    {
     "name": "stdout",
     "output_type": "stream",
     "text": [
      "[13 12 19 20 11  8 18 15 16  9 22 10  0 14 17  1  7  6  2 21  3 23  5  4]\n",
      "[6 5 0 4 3 1 2]\n"
     ]
    }
   ],
   "source": [
    "# Verificando a la columnas \n",
    "print(instacart_orders['order_hour_of_day'].unique())\n",
    "print(instacart_orders['order_dow'].unique())\n"
   ]
  },
  {
   "cell_type": "code",
   "execution_count": 101,
   "id": "accessory-malaysia",
   "metadata": {
    "id": "accessory-malaysia"
   },
   "outputs": [
    {
     "name": "stdout",
     "output_type": "stream",
     "text": [
      "order_hour_of_day\n",
      "0      3180\n",
      "1      1763\n",
      "2       989\n",
      "3       770\n",
      "4       765\n",
      "5      1371\n",
      "6      4215\n",
      "7     13043\n",
      "8     25024\n",
      "9     35896\n",
      "10    40578\n",
      "11    40032\n",
      "12    38034\n",
      "13    39007\n",
      "14    39631\n",
      "15    39789\n",
      "16    38112\n",
      "17    31930\n",
      "18    25510\n",
      "19    19547\n",
      "20    14624\n",
      "21    11019\n",
      "22     8512\n",
      "23     5611\n",
      "Name: count, dtype: int64"
     ]
    },
    {
     "name": "stdout",
     "output_type": "stream",
     "text": [
      "\n",
      "order_dow\n",
      "0    84090\n",
      "1    82185\n",
      "2    65833\n",
      "3    60897\n",
      "4    59810\n",
      "5    63488\n",
      "6    62649\n",
      "Name: count, dtype: int64\n"
     ]
    }
   ],
   "source": [
    "# Frecuencia de los valores\n",
    "print(instacart_orders['order_hour_of_day'].value_counts().sort_index())\n",
    "print(instacart_orders['order_dow'].value_counts().sort_index())\n"
   ]
  },
  {
   "cell_type": "markdown",
   "id": "hmR2GNQ6lCsX",
   "metadata": {
    "id": "hmR2GNQ6lCsX"
   },
   "source": [
    "\n",
    "\n",
    "Los datos son sensibles, corresponden al rango de valores correcto."
   ]
  },
  {
   "cell_type": "markdown",
   "id": "a6743a70",
   "metadata": {
    "id": "a6743a70"
   },
   "source": [
    "### ¿Cuántas personas hacen órdenes?"
   ]
  },
  {
   "cell_type": "code",
   "execution_count": 102,
   "id": "a36cca27",
   "metadata": {
    "id": "a36cca27"
   },
   "outputs": [
    {
     "data": {
      "image/png": "[encoded data removed]",
      "text/plain": [
       "<Figure size 640x480 with 1 Axes>"
      ]
     },
     "metadata": {},
     "output_type": "display_data"
    }
   ],
   "source": [
    "# Grafico de número de personas que hacen pedidos dependiendo de la hora del día.\n",
    "grafica_pedidos = instacart_orders.groupby('order_hour_of_day')['order_id'].count()\n",
    "\n",
    "grafica_pedidos.plot(title = 'Número de personas que hacen pedidos dependiendo de la hora del día', xlabel = 'hora del dia', \n",
    "                     ylabel = 'n. de pedidos', kind = 'bar')\n",
    "plt.show()"
   ]
  },
  {
   "cell_type": "markdown",
   "id": "11270eed",
   "metadata": {
    "id": "11270eed"
   },
   "source": [
    "\n",
    "\n",
    "La mayor cantidad de pedidos se realiza entre las 10:00 a.m. y las 3:00 p.m., con un pico alrededor de las 11:00 a.m., por lo que la mayoría de las personas tienden a hacer pedidos durante el horario de la mañana y el mediodía. En contraste, las horas de la madrugada (0:00 a 6:00 a.m.) tienen una actividad significativamente menor."
   ]
  },
  {
   "cell_type": "markdown",
   "id": "documented-command",
   "metadata": {
    "id": "documented-command"
   },
   "source": [
    "### ¿Qué día de la semana compran víveres las personas?"
   ]
  },
  {
   "cell_type": "code",
   "execution_count": 103,
   "id": "chief-digit",
   "metadata": {
    "id": "chief-digit"
   },
   "outputs": [
    {
     "data": {
      "image/png": "[encoded data removed]",
      "text/plain": [
       "<Figure size 640x480 with 1 Axes>"
      ]
     },
     "metadata": {},
     "output_type": "display_data"
    }
   ],
   "source": [
    "ordenes_por_dia = instacart_orders['order_dow'].value_counts().sort_index()\n",
    "dias = ['Dom', 'Lun', 'Mar', 'Mié', 'Jue', 'Vie', 'Sáb']\n",
    "\n",
    "ordenes_por_dia.index = dias  # Reemplazar los índices numéricos con nombres de días\n",
    "ordenes_por_dia.plot(title=\"Día de la semana la gente hace sus compras\",\n",
    "                     kind='bar', xlabel='Día de la semana', ylabel='Número de compras')\n",
    "\n",
    "plt.show()\n"
   ]
  },
  {
   "cell_type": "markdown",
   "id": "dominant-lightning",
   "metadata": {
    "id": "dominant-lightning"
   },
   "source": [
    "\n",
    "La mayoría de las personas realizan sus compras los días domingo y lunes. Entonces, los clientes tienden a abastecerse al inicio de la semana. En contraste, los días martes y miércoles tienen la menor cantidad de compras."
   ]
  },
  {
   "cell_type": "markdown",
   "id": "cutting-concert",
   "metadata": {
    "id": "cutting-concert"
   },
   "source": [
    "### ¿Cuánto tiempo esperan las personas hasta hacer otro pedido? "
   ]
  },
  {
   "cell_type": "code",
   "execution_count": 104,
   "id": "c231f523",
   "metadata": {
    "id": "c231f523"
   },
   "outputs": [
    {
     "data": {
      "image/png": "[encoded data removed]",
      "text/plain": [
       "<Figure size 640x480 with 1 Axes>"
      ]
     },
     "metadata": {},
     "output_type": "display_data"
    }
   ],
   "source": [
    "tiempo_por_pedido = instacart_orders.groupby('days_since_prior_order')['user_id'].count()\n",
    "tiempo_por_pedido.plot(title = 'Tiempo de espera para su siguiente pedido', kind = 'bar', xlabel = 'n. dias', ylabel = 'n. de pedidos')\n",
    "plt.show()"
   ]
  },
  {
   "cell_type": "markdown",
   "id": "discrete-vertex",
   "metadata": {
    "id": "discrete-vertex"
   },
   "source": [
    "\n",
    "El tiempo de espera más común para realizar un nuevo pedido es de 7 días, lo que sugiere que muchos clientes hacen compras semanalmente. También se observa un pico significativo en el día 30, indicando que algunos clientes realizan compras mensualmente. No obstante, los pedidos realizados dentro de los primeros días (0 a 3 días) también son frecuentes, lo que podría deberse a compras complementarias."
   ]
  },
  {
   "cell_type": "markdown",
   "id": "packed-classic",
   "metadata": {
    "id": "packed-classic"
   },
   "source": [
    "### Diferencia entre miércoles y sábados para  `'order_hour_of_day'`. "
   ]
  },
  {
   "cell_type": "code",
   "execution_count": 105,
   "id": "d89b8403",
   "metadata": {
    "id": "d89b8403"
   },
   "outputs": [
    {
     "name": "stdout",
     "output_type": "stream",
     "text": [
      "order_hour_of_day\n",
      "0      464\n",
      "1      254\n",
      "2      177\n",
      "3      125\n",
      "4      118\n",
      "5      161\n",
      "6      451\n",
      "7     1619\n",
      "8     3246\n",
      "9     4311\n",
      "10    4919\n",
      "11    5116\n",
      "12    5132\n",
      "13    5323\n",
      "14    5375\n",
      "15    5188\n",
      "16    5029\n",
      "17    4295\n",
      "18    3338\n",
      "19    2610\n",
      "20    1847\n",
      "21    1473\n",
      "22    1185\n",
      "23     893\n",
      "Name: order_id, dtype: int64\n"
     ]
    }
   ],
   "source": [
    "distribucion_sabado = instacart_orders[instacart_orders['order_dow'] == 6].groupby('order_hour_of_day')['order_id'].count()\n",
    "print(distribucion_sabado)"
   ]
  },
  {
   "cell_type": "code",
   "execution_count": 106,
   "id": "94e54e8a",
   "metadata": {
    "id": "94e54e8a"
   },
   "outputs": [
    {
     "name": "stdout",
     "output_type": "stream",
     "text": [
      "order_hour_of_day\n",
      "0      324\n",
      "1      229\n",
      "2      114\n",
      "3      109\n",
      "4      100\n",
      "5      198\n",
      "6      594\n",
      "7     1787\n",
      "8     3136\n",
      "9     4332\n",
      "10    4938\n",
      "11    4842\n",
      "12    4433\n",
      "13    4567\n",
      "14    4795\n",
      "15    4795\n",
      "16    4788\n",
      "17    4089\n",
      "18    3379\n",
      "19    2691\n",
      "20    2037\n",
      "21    1506\n",
      "22    1236\n",
      "23     791\n",
      "Name: order_id, dtype: int64\n"
     ]
    }
   ],
   "source": [
    "distribucion_miercoles = instacart_orders[instacart_orders['order_dow'] == 4].groupby('order_hour_of_day')['order_id'].count()\n",
    "print(distribucion_miercoles)"
   ]
  },
  {
   "cell_type": "code",
   "execution_count": 107,
   "id": "797c90a8",
   "metadata": {
    "id": "797c90a8",
    "scrolled": false
   },
   "outputs": [
    {
     "data": {
      "image/png": "[encoded data removed]",
      "text/plain": [
       "<Figure size 1200x600 with 1 Axes>"
      ]
     },
     "metadata": {},
     "output_type": "display_data"
    }
   ],
   "source": [
    "\n",
    "# tamaño del gráfico\n",
    "plt.figure(figsize=(12, 6))\n",
    "\n",
    "# s para el sábado\n",
    "plt.bar(distribucion_sabado.index - 0.2, distribucion_sabado.values, width=0.4, label='Sábado', color='blue', alpha=0.7)\n",
    "\n",
    "#  para el miércoles\n",
    "plt.bar(distribucion_miercoles.index + 0.2, distribucion_miercoles.values, width=0.4, label='Miércoles', color='orange', alpha=0.7)\n",
    "\n",
    "# etiquetas, título y leyenda\n",
    "plt.title('Distribución de pedidos por hora: Sábado vs Miércoles', fontsize=14)\n",
    "plt.xlabel('Hora del día', fontsize=12)\n",
    "plt.ylabel('Número de pedidos', fontsize=12)\n",
    "plt.xticks(range(24), fontsize=10)\n",
    "plt.legend(title='Día')\n",
    "\n",
    "# Mostrar el gráfico\n",
    "plt.show()\n",
    "\n"
   ]
  },
  {
   "cell_type": "markdown",
   "id": "charitable-congo",
   "metadata": {
    "id": "charitable-congo"
   },
   "source": [
    "La distribución de pedidos por hora en el sábado y el miércoles sigue un patrón similar, con un pico entre las 10:00 a.m. y las 3:00 p.m., siendo las 11:00 a.m. la hora más frecuente en ambos días. Las compras en línea tienen un comportamiento consistente durante las horas del día, independientemente del día de la semana. Sin embargo, se observa que los sábados tienden a tener una mayor cantidad total de pedidos en comparación con los miércoles,"
   ]
  },
  {
   "cell_type": "markdown",
   "id": "e3891143",
   "metadata": {
    "id": "e3891143"
   },
   "source": [
    "### ¿Cuál es la distribución para el número de pedidos por cliente?"
   ]
  },
  {
   "cell_type": "code",
   "execution_count": 108,
   "id": "d8c26c23",
   "metadata": {
    "id": "d8c26c23"
   },
   "outputs": [
    {
     "name": "stdout",
     "output_type": "stream",
     "text": [
      "user_id\n",
      "2         2\n",
      "4         2\n",
      "5         1\n",
      "6         2\n",
      "7         2\n",
      "         ..\n",
      "206203    1\n",
      "206206    7\n",
      "206207    5\n",
      "206208    9\n",
      "206209    2\n",
      "Name: order_id, Length: 157437, dtype: int64\n"
     ]
    }
   ],
   "source": [
    "n_ordenes = instacart_orders.groupby('user_id')['order_id'].count()\n",
    "print(n_ordenes)"
   ]
  },
  {
   "cell_type": "code",
   "execution_count": 109,
   "id": "00e69a66",
   "metadata": {
    "id": "00e69a66"
   },
   "outputs": [
    {
     "data": {
      "image/png": "[encoded data removed]",
      "text/plain": [
       "<Figure size 640x480 with 1 Axes>"
      ]
     },
     "metadata": {},
     "output_type": "display_data"
    }
   ],
   "source": [
    "plt.hist(n_ordenes, bins=20, edgecolor='black')\n",
    "\n",
    "\n",
    "plt.title('Distribución del número de pedidos por cliente')\n",
    "plt.xlabel('Número de pedidos')\n",
    "plt.ylabel('Frecuencia (número de clientes)')\n",
    "\n",
    "plt.show()"
   ]
  },
  {
   "cell_type": "markdown",
   "id": "d2eff7d5",
   "metadata": {
    "id": "d2eff7d5"
   },
   "source": [
    "La distribución muestra que la mayoría de los clientes realizan entre 1 y 5 pedidos, con un gran número concentrado en 1 o 2 pedidos. Solo un pequeño porcentaje de clientes supera los 10 pedidos. "
   ]
  },
  {
   "cell_type": "markdown",
   "id": "54a0319c",
   "metadata": {
    "id": "54a0319c"
   },
   "source": [
    "### ¿Cuáles son los 20 productos más populares (muestra su ID y nombre)?"
   ]
  },
  {
   "cell_type": "code",
   "execution_count": 110,
   "id": "exterior-arizona",
   "metadata": {
    "id": "exterior-arizona",
    "scrolled": true
   },
   "outputs": [],
   "source": [
    "# Calculamos los 20 productos más populares\n",
    "# Renombramos las columnas\n",
    "productos_populares = order_products['product_id'].value_counts().head(20).reset_index()\n",
    "productos_populares.columns = ['product_id', 'cantidad']"
   ]
  },
  {
   "cell_type": "code",
   "execution_count": 111,
   "id": "universal-facial",
   "metadata": {
    "id": "universal-facial"
   },
   "outputs": [],
   "source": [
    "# Hacemos un merge con 'products' para obtener los nombres y extraemos solo las columnas con el id y el nombre\n",
    "productos_populares = productos_populares.merge(products[['product_id', 'product_name']], \n",
    "                                                on='product_id', how='left') # es left para mantener los productos populares"
   ]
  },
  {
   "cell_type": "code",
   "execution_count": 112,
   "id": "bbcdd20b",
   "metadata": {
    "id": "bbcdd20b"
   },
   "outputs": [
    {
     "name": "stdout",
     "output_type": "stream",
     "text": [
      "    product_id  cantidad            product_name\n",
      "0        24852      7074                  BANANA\n",
      "1        13176      6390  BAG OF ORGANIC BANANAS\n",
      "2        21137      3828    ORGANIC STRAWBERRIES\n",
      "3        21903      3497    ORGANIC BABY SPINACH\n",
      "4        47209      2757    ORGANIC HASS AVOCADO\n",
      "5        47766      2345         ORGANIC AVOCADO\n",
      "6        16797      2272            STRAWBERRIES\n",
      "7        27845      2211      ORGANIC WHOLE MILK\n",
      "8        47626      1965             LARGE LEMON\n",
      "9        27966      1746     ORGANIC RASPBERRIES\n",
      "10       26209      1677                   LIMES\n",
      "11       39275      1505     ORGANIC BLUEBERRIES\n",
      "12         196      1431                    SODA\n",
      "13       19660      1363            SPRING WATER\n",
      "14       24964      1346          ORGANIC GARLIC\n",
      "15       22935      1338    ORGANIC YELLOW ONION\n",
      "16       49235      1321     ORGANIC HALF & HALF\n",
      "17       49683      1242          CUCUMBER KIRBY\n",
      "18       45007      1234        ORGANIC ZUCCHINI\n",
      "19       28204      1214      ORGANIC FUJI APPLE\n"
     ]
    }
   ],
   "source": [
    "print(productos_populares)"
   ]
  },
  {
   "cell_type": "code",
   "execution_count": 113,
   "id": "6c0a1293",
   "metadata": {},
   "outputs": [
    {
     "data": {
      "image/png": "[encoded data removed]",
      "text/plain": [
       "<Figure size 640x480 with 1 Axes>"
      ]
     },
     "metadata": {},
     "output_type": "display_data"
    }
   ],
   "source": [
    "productos_populares.plot( x='product_name', y='cantidad', kind='bar', title='Top 20 productos más populares',legend=False)\n",
    "plt.xlabel('Nombre del producto')\n",
    "plt.ylabel('Cantidad de articulos vendidos')\n",
    "plt.show()"
   ]
  },
  {
   "cell_type": "markdown",
   "id": "7df00f47",
   "metadata": {
    "id": "7df00f47"
   },
   "source": [
    "Los 20 productos más populares incluyen principalmente productos básicos y orgánicos, como bananas, fresas orgánicas, espinacas orgánicas, y aguacates orgánicos. El producto más solicitado es la banana, con un conteo significativamente mayor que los demás."
   ]
  },
  {
   "cell_type": "markdown",
   "id": "romantic-deposit",
   "metadata": {
    "id": "romantic-deposit"
   },
   "source": [
    "### ¿Cuántos artículos compran normalmente las personas en un pedido? ¿Cómo es la distribución?"
   ]
  },
  {
   "cell_type": "code",
   "execution_count": 114,
   "id": "virtual-punch",
   "metadata": {
    "id": "virtual-punch"
   },
   "outputs": [
    {
     "name": "stdout",
     "output_type": "stream",
     "text": [
      "user_id\n",
      "2         2\n",
      "4         1\n",
      "5         1\n",
      "6         1\n",
      "7         2\n",
      "         ..\n",
      "206203    1\n",
      "206206    7\n",
      "206207    5\n",
      "206208    9\n",
      "206209    2\n",
      "Name: product_id, Length: 149626, dtype: int64\n"
     ]
    }
   ],
   "source": [
    "# Combinar instacart_orders con order_products para incluir 'user_id'\n",
    "articulos_por_persona = order_products.merge(instacart_orders[['order_id', 'user_id']], on='order_id').groupby('user_id')['product_id'].count()\n",
    "\n",
    "print(articulos_por_persona)"
   ]
  },
  {
   "cell_type": "code",
   "execution_count": 115,
   "id": "sensitive-breathing",
   "metadata": {
    "id": "sensitive-breathing"
   },
   "outputs": [
    {
     "data": {
      "image/png": "[encoded data removed]",
      "text/plain": [
       "<Figure size 640x480 with 1 Axes>"
      ]
     },
     "metadata": {},
     "output_type": "display_data"
    }
   ],
   "source": [
    "plt.hist(articulos_por_persona, bins=30, edgecolor='black')\n",
    "\n",
    "plt.title('Distribución de artículos comprados por persona')\n",
    "plt.xlabel('Número de artículos')\n",
    "plt.ylabel('Frecuencia (número de usuarios)')\n",
    "\n",
    "\n",
    "plt.show()"
   ]
  },
  {
   "cell_type": "markdown",
   "id": "designed-mortality",
   "metadata": {
    "id": "designed-mortality"
   },
   "source": [
    "\n",
    "La distribución de artículos comprados por persona muestra que la mayoría de los usuarios compran entre 1 y 5 artículos, con una disminución significativa en la frecuencia para compras más grandes. Por lo que las compras pequeñas son más comunes"
   ]
  },
  {
   "cell_type": "markdown",
   "id": "5e6b5537",
   "metadata": {
    "id": "5e6b5537"
   },
   "source": [
    "### ¿Cuáles son los 20 principales artículos que vuelven a pedirse con mayor frecuencia (muestra sus nombres e IDs de los productos)?"
   ]
  },
  {
   "cell_type": "code",
   "execution_count": 116,
   "id": "9374e55a",
   "metadata": {
    "id": "9374e55a"
   },
   "outputs": [
    {
     "name": "stdout",
     "output_type": "stream",
     "text": [
      "         order_id  product_id  add_to_cart_order  reordered\n",
      "1          567889        1560                  1          1\n",
      "2         2261212       26683                  1          1\n",
      "3          491251        8670                 35          1\n",
      "4         2571142        1940                  5          1\n",
      "5         2456893       21616                  4          1\n",
      "...           ...         ...                ...        ...\n",
      "4543424   1790509       43739                  1          1\n",
      "4543722   1274005       38275                  1          1\n",
      "4543749    812418       46149                  1          1\n",
      "4544396   2666881         196                  1          1\n",
      "4544839   1461911       33198                  1          1\n",
      "\n",
      "[270159 rows x 4 columns]\n"
     ]
    }
   ],
   "source": [
    "# Encontrando los articulos reordenados\n",
    "articulos_reordenados = order_products[order_products['reordered']== 1]\n",
    "print(articulos_reordenados)"
   ]
  },
  {
   "cell_type": "code",
   "execution_count": 117,
   "id": "possible-change",
   "metadata": {
    "id": "possible-change",
    "scrolled": false
   },
   "outputs": [
    {
     "name": "stdout",
     "output_type": "stream",
     "text": [
      "    product_id  cantidad\n",
      "0        24852      5972\n",
      "1        13176      5237\n",
      "2        21137      2856\n",
      "3        21903      2671\n",
      "4        47209      2134\n",
      "5        27845      1814\n",
      "6        47766      1768\n",
      "7        16797      1592\n",
      "8        47626      1369\n",
      "9        27966      1339\n",
      "10         196      1137\n",
      "11       26209      1113\n",
      "12       19660      1111\n",
      "13       49235      1040\n",
      "14       39275       988\n",
      "15       22935       951\n",
      "16       12341       908\n",
      "17       24964       902\n",
      "18       49683       878\n",
      "19       28204       862\n"
     ]
    }
   ],
   "source": [
    "# Obteniendo los 20 principales\n",
    "articulos_reordenados = articulos_reordenados['product_id'].value_counts().head(20).reset_index()\n",
    "articulos_reordenados.columns = ['product_id', 'cantidad']\n",
    "print(articulos_reordenados)"
   ]
  },
  {
   "cell_type": "code",
   "execution_count": 118,
   "id": "professional-surfing",
   "metadata": {
    "id": "professional-surfing",
    "scrolled": true
   },
   "outputs": [],
   "source": [
    "# Obteniendo los nombres\n",
    "articulos_reordenados = articulos_reordenados.merge(products[['product_id', 'product_name']], \n",
    "                                                on='product_id', how='left') # es left para mantener los productos populares"
   ]
  },
  {
   "cell_type": "code",
   "execution_count": 119,
   "id": "48dd3658",
   "metadata": {
    "id": "48dd3658"
   },
   "outputs": [
    {
     "name": "stdout",
     "output_type": "stream",
     "text": [
      "    product_id  cantidad            product_name\n",
      "0        24852      5972                  BANANA\n",
      "1        13176      5237  BAG OF ORGANIC BANANAS\n",
      "2        21137      2856    ORGANIC STRAWBERRIES\n",
      "3        21903      2671    ORGANIC BABY SPINACH\n",
      "4        47209      2134    ORGANIC HASS AVOCADO\n",
      "5        27845      1814      ORGANIC WHOLE MILK\n",
      "6        47766      1768         ORGANIC AVOCADO\n",
      "7        16797      1592            STRAWBERRIES\n",
      "8        47626      1369             LARGE LEMON\n",
      "9        27966      1339     ORGANIC RASPBERRIES\n",
      "10         196      1137                    SODA\n",
      "11       26209      1113                   LIMES\n",
      "12       19660      1111            SPRING WATER\n",
      "13       49235      1040     ORGANIC HALF & HALF\n",
      "14       39275       988     ORGANIC BLUEBERRIES\n",
      "15       22935       951    ORGANIC YELLOW ONION\n",
      "16       12341       908           HASS AVOCADOS\n",
      "17       24964       902          ORGANIC GARLIC\n",
      "18       49683       878          CUCUMBER KIRBY\n",
      "19       28204       862      ORGANIC FUJI APPLE\n"
     ]
    }
   ],
   "source": [
    "print(articulos_reordenados)"
   ]
  },
  {
   "cell_type": "code",
   "execution_count": 120,
   "id": "0881e74a",
   "metadata": {},
   "outputs": [
    {
     "data": {
      "image/png": "[encoded data removed]",
      "text/plain": [
       "<Figure size 640x480 with 1 Axes>"
      ]
     },
     "metadata": {},
     "output_type": "display_data"
    }
   ],
   "source": [
    "articulos_reordenados.plot( x='product_name', y='cantidad', kind='bar', title='20 principales artículos que vuelven a pedirse con mayor frecuencia',legend=False)\n",
    "plt.xlabel('Nombre del producto')\n",
    "plt.ylabel('Cantidad de productos vendido')\n",
    "plt.show()"
   ]
  },
  {
   "cell_type": "markdown",
   "id": "80e70c74",
   "metadata": {
    "id": "80e70c74"
   },
   "source": [
    "Los 20 artículos que más se vuelven a pedir con mayor frecuencia son articulos como bananas, bolsas de bananas orgánicas, espinacas orgánicas, fresas orgánicas y aguacates. Quiere decir que los clientes tienden a realizar compras recurrentes de productos básicos que son consumidos regularmente"
   ]
  },
  {
   "cell_type": "markdown",
   "id": "9d312b14",
   "metadata": {
    "id": "9d312b14"
   },
   "source": [
    "### Para cada producto, ¿cuál es la proporción de las veces que se pide y que se vuelve a pedir?"
   ]
  },
  {
   "cell_type": "code",
   "execution_count": 121,
   "id": "8ae9f4b1",
   "metadata": {
    "id": "8ae9f4b1"
   },
   "outputs": [],
   "source": [
    "# Total de pedidos por producto\n",
    "total_pedidos = order_products['product_id'].value_counts()\n",
    "\n",
    "# Cuántas veces se reordenó cada producto\n",
    "reordenados = order_products[order_products['reordered'] == 1]['product_id'].value_counts()\n"
   ]
  },
  {
   "cell_type": "code",
   "execution_count": 122,
   "id": "c9d4cc2d",
   "metadata": {},
   "outputs": [],
   "source": [
    "# Podemos crear un data frame nuevo para mantener nuestra informacion ordenada\n",
    "proporcion_reorden = pd.DataFrame({\n",
    "    'total_pedidos': total_pedidos,\n",
    "    'reordenados': reordenados\n",
    "})\n",
    "# Nueva columna con la proporcion\n",
    "proporcion_reorden['proporcion'] = proporcion_reorden['reordenados'] / proporcion_reorden['total_pedidos']"
   ]
  },
  {
   "cell_type": "code",
   "execution_count": 123,
   "id": "103e7fe1",
   "metadata": {
    "id": "103e7fe1"
   },
   "outputs": [],
   "source": [
    "# Nombres de los productos\n",
    "proporcion_reorden = proporcion_reorden.reset_index().rename(columns={'index': 'product_id'})\n",
    "proporcion_reorden = proporcion_reorden.merge(products[['product_id', 'product_name']], on='product_id', how='left')\n"
   ]
  },
  {
   "cell_type": "code",
   "execution_count": 124,
   "id": "social-individual",
   "metadata": {
    "id": "social-individual"
   },
   "outputs": [
    {
     "name": "stdout",
     "output_type": "stream",
     "text": [
      "                                         product_name  proporcion\n",
      "0                          CHOCOLATE SANDWICH COOKIES    0.586957\n",
      "1                                    ALL-SEASONS SALT         NaN\n",
      "2                ROBUST GOLDEN UNSWEETENED OOLONG TEA    0.750000\n",
      "3                   CUT RUSSET POTATOES STEAM N' MASH         NaN\n",
      "4                   LIGHT STRAWBERRY BLUEBERRY YOGURT    0.750000\n",
      "5      SPARKLING ORANGE JUICE & PRICKLY PEAR BEVERAGE    0.500000\n",
      "6                          CHOCOLATE FUDGE LAYER CAKE    0.400000\n",
      "7                                   SALINE NASAL MIST         NaN\n",
      "8                      FRESH SCENT DISHWASHER CLEANER         NaN\n",
      "9                    SMALL & MEDIUM DENTAL DOG TREATS         NaN\n",
      "10                  FRESH BREATH ORAL RINSE MILD MINT    1.000000\n",
      "11                             ORGANIC TURKEY BURGERS    0.230769\n",
      "12            SALTED CARAMEL LEAN PROTEIN & FIBER BAR    0.666667\n",
      "13        FANCY FEAST TROUT FEAST FLAKED WET CAT FOOD    0.666667\n",
      "14  COMPLETE SPRING WATER FOAMING ANTIBACTERIAL HA...         NaN\n",
      "15                                  WHEAT CHEX CEREAL    0.600000\n",
      "16  FRESH CUT GOLDEN SWEET NO SALT ADDED WHOLE KER...         NaN\n",
      "17                                 WHITE PEARL ONIONS         NaN\n",
      "18                      NACHO CHEESE WHITE BEAN CHIPS         NaN\n",
      "19                      ORGANIC SPAGHETTI STYLE PASTA    1.000000\n"
     ]
    }
   ],
   "source": [
    "print(proporcion_reorden[['product_name', 'proporcion']].head(20))  # Mostrar los primeros 20 productos"
   ]
  },
  {
   "cell_type": "markdown",
   "id": "I10dEIAyldcO",
   "metadata": {
    "id": "I10dEIAyldcO"
   },
   "source": [
    "La proporción de las veces que un producto se vuelve a pedir en relación con las veces que se pide varía considerablemente entre los productos. Algunos artículos, como el \"Organic Spaghetti Style Pasta\" y el \"Small & Medium Dental Dog Treats\", tienen proporciones del 100%, indicando que cada vez que se compran, tienden a ser reordenados. Por otro lado, productos como las \"Chocolate Sandwich Cookies\" tienen una proporción menor (58.7%), lo que sugiere que no siempre son reordenados con tanta frecuencia."
   ]
  },
  {
   "cell_type": "markdown",
   "id": "subject-boxing",
   "metadata": {
    "id": "subject-boxing"
   },
   "source": [
    "### Para cada cliente, ¿qué proporción de sus productos ya los había pedido?"
   ]
  },
  {
   "cell_type": "code",
   "execution_count": 125,
   "id": "medical-couple",
   "metadata": {
    "id": "medical-couple",
    "scrolled": true
   },
   "outputs": [],
   "source": [
    "# order_products con instacart_orders para obtener user_id\n",
    "productos_por_cliente = order_products.merge(instacart_orders[['order_id', 'user_id']], on='order_id')\n",
    "\n",
    "# Total de productos por cliente\n",
    "total_productos_por_cliente = productos_por_cliente.groupby('user_id')['product_id'].count()"
   ]
  },
  {
   "cell_type": "code",
   "execution_count": 126,
   "id": "8892e4b4",
   "metadata": {
    "id": "8892e4b4"
   },
   "outputs": [],
   "source": [
    "# Cuántos productos reordenó cada cliente\n",
    "productos_reordenados_por_cliente = productos_por_cliente[productos_por_cliente['reordered'] == 1].groupby('user_id')['product_id'].count()"
   ]
  },
  {
   "cell_type": "code",
   "execution_count": 127,
   "id": "6bfb9f01",
   "metadata": {},
   "outputs": [
    {
     "name": "stdout",
     "output_type": "stream",
     "text": [
      "user_id\n",
      "2          NaN\n",
      "4          NaN\n",
      "5     1.000000\n",
      "6          NaN\n",
      "7     1.000000\n",
      "11         NaN\n",
      "12    1.000000\n",
      "13    0.666667\n",
      "14    0.333333\n",
      "15    0.600000\n",
      "16    0.666667\n",
      "17    0.714286\n",
      "19    1.000000\n",
      "20         NaN\n",
      "21    0.333333\n",
      "22    1.000000\n",
      "24         NaN\n",
      "26    0.500000\n",
      "27    0.600000\n",
      "28    0.200000\n",
      "Name: product_id, dtype: float64\n"
     ]
    }
   ],
   "source": [
    "# Se calcula la proporcion\n",
    "proporcion = productos_reordenados_por_cliente / total_productos_por_cliente\n",
    "\n",
    "\n",
    "print(proporcion.head(20))"
   ]
  },
  {
   "cell_type": "markdown",
   "id": "BgJSvXDsleXz",
   "metadata": {
    "id": "BgJSvXDsleXz"
   },
   "source": [
    "Algunos clientes tienen proporciones de 1.0, lo que indica que todos los productos que compraron ya habían sido pedidos previamente. Por otro lado, hay clientes con proporciones más bajas (por ejemplo, 0.2), lo que indica que solo una fracción de sus productos fue reordenada. Además, algunos clientes muestran valores nulos (NaN), lo que puede deberse a que solo realizaron compras iniciales y no han reordenado aún."
   ]
  },
  {
   "cell_type": "markdown",
   "id": "92d35137",
   "metadata": {
    "id": "92d35137"
   },
   "source": [
    "### ¿Cuáles son los 20 principales artículos que las personas ponen primero en sus carritos?"
   ]
  },
  {
   "cell_type": "code",
   "execution_count": 128,
   "id": "0ae57274",
   "metadata": {
    "id": "0ae57274",
    "scrolled": true
   },
   "outputs": [
    {
     "name": "stdout",
     "output_type": "stream",
     "text": [
      "    product_id  cantidad\n",
      "0        24852      2084\n",
      "1        13176      1955\n",
      "2          196       805\n",
      "3        21137       763\n",
      "4        27845       715\n",
      "5        19660       685\n",
      "6        21903       657\n",
      "7        16797       546\n",
      "8        47209       510\n",
      "9        12341       445\n",
      "10       47766       435\n",
      "11       49235       409\n",
      "12       43352       359\n",
      "13        6184       357\n",
      "14       44632       334\n",
      "15       47626       317\n",
      "16       27966       298\n",
      "17       39275       278\n",
      "18       32478       275\n",
      "19       43154       273\n"
     ]
    }
   ],
   "source": [
    "\n",
    "articulos_carrito = order_products[order_products['add_to_cart_order'] == 1].value_counts('product_id').head(20).reset_index()\n",
    "articulos_carrito.columns = ['product_id', 'cantidad']\n",
    "print(articulos_carrito)"
   ]
  },
  {
   "cell_type": "code",
   "execution_count": 129,
   "id": "forty-netherlands",
   "metadata": {
    "id": "forty-netherlands",
    "scrolled": true
   },
   "outputs": [
    {
     "name": "stdout",
     "output_type": "stream",
     "text": [
      "    product_id                product_name  cantidad\n",
      "0        24852                      BANANA      2084\n",
      "1        13176      BAG OF ORGANIC BANANAS      1955\n",
      "2          196                        SODA       805\n",
      "3        21137        ORGANIC STRAWBERRIES       763\n",
      "4        27845          ORGANIC WHOLE MILK       715\n",
      "5        19660                SPRING WATER       685\n",
      "6        21903        ORGANIC BABY SPINACH       657\n",
      "7        16797                STRAWBERRIES       546\n",
      "8        47209        ORGANIC HASS AVOCADO       510\n",
      "9        12341               HASS AVOCADOS       445\n",
      "10       47766             ORGANIC AVOCADO       435\n",
      "11       49235         ORGANIC HALF & HALF       409\n",
      "12       43352                 RASPBERRIES       359\n",
      "13        6184                 CLEMENTINES       357\n",
      "14       44632  SPARKLING WATER GRAPEFRUIT       334\n",
      "15       47626                 LARGE LEMON       317\n",
      "16       27966         ORGANIC RASPBERRIES       298\n",
      "17       39275         ORGANIC BLUEBERRIES       278\n",
      "18       32478         REDUCED FAT 2% MILK       275\n",
      "19       43154     SPARKLING MINERAL WATER       273\n"
     ]
    }
   ],
   "source": [
    "# Se une con products para obtener los nombres de los productos\n",
    "articulos_carrito = articulos_carrito.merge(products[['product_id', 'product_name']], on='product_id', how='left')\n",
    "\n",
    "\n",
    "print(articulos_carrito[['product_id', 'product_name', 'cantidad']])\n"
   ]
  },
  {
   "cell_type": "code",
   "execution_count": 130,
   "id": "7dd489f4",
   "metadata": {},
   "outputs": [
    {
     "data": {
      "image/png": "[encoded data removed]",
      "text/plain": [
       "<Figure size 640x480 with 1 Axes>"
      ]
     },
     "metadata": {},
     "output_type": "display_data"
    }
   ],
   "source": [
    "articulos_carrito.plot( x='product_name', y='cantidad', kind='bar', title='20 principales artículos que las personas ponen primero en sus carritos',legend=False)\n",
    "plt.xlabel('Nombre del producto')\n",
    "plt.ylabel('Cantidad de productos vendido')\n",
    "plt.show()"
   ]
  },
  {
   "cell_type": "markdown",
   "id": "28ce9872",
   "metadata": {
    "id": "28ce9872"
   },
   "source": [
    "Los 20 principales artículos que las personas colocan primero en sus carritos son productos básicos y frecuentemente consumidos, como bananas, bolsas de bananas orgánicas, fresas orgánicas, agua embotellada, y leche orgánica. Estos productos probablemente representan necesidades diarias."
   ]
  },
  {
   "cell_type": "markdown",
   "id": "uITbFCEoDosC",
   "metadata": {
    "id": "uITbFCEoDosC"
   },
   "source": [
    "### Conclusion general del proyecto:\n",
    "\n",
    "A través del preprocesamiento y exploración de datos, se identificaron tendencias clave en el comportamiento de los consumidores:\n",
    "\n",
    "- Los clientes tienden a realizar sus pedidos más frecuentemente los domingos y lunes, con una alta actividad entre las 10:00 a.m. y 3:00 p.m. \n",
    "- El tiempo de espera más común entre pedidos es de 7 días, reflejando un patrón recurrente de compras semanales. \n",
    "- Los productos más populares incluyen artículos esenciales como bananas, fresas, aguacates y productos orgánicos\n",
    "- Los productos con mayores proporciones de reordenamiento son aquellos de uso recurrente\n",
    "- La mayoría de los clientes realizan entre 1 y 5 pedidos, con un porcentaje más pequeño que realiza compras frecuentes y de gran volumen. \n"
   ]
  }
 ],
 "metadata": {
  "ExecuteTimeLog": [
   {
    "duration": 2105,
    "start_time": "2024-12-09T03:40:50.920Z"
   },
   {
    "duration": 2287,
    "start_time": "2024-12-09T03:43:28.785Z"
   },
   {
    "duration": 21,
    "start_time": "2024-12-09T03:45:18.317Z"
   },
   {
    "duration": 6,
    "start_time": "2024-12-09T03:45:40.686Z"
   },
   {
    "duration": 19,
    "start_time": "2024-12-09T03:45:45.662Z"
   },
   {
    "duration": 20,
    "start_time": "2024-12-09T03:45:54.211Z"
   },
   {
    "duration": 181,
    "start_time": "2024-12-09T03:46:18.099Z"
   },
   {
    "duration": 10,
    "start_time": "2024-12-09T03:46:28.197Z"
   },
   {
    "duration": 8,
    "start_time": "2024-12-09T03:47:01.779Z"
   },
   {
    "duration": 8,
    "start_time": "2024-12-09T03:47:02.848Z"
   },
   {
    "duration": 12,
    "start_time": "2024-12-09T03:47:08.445Z"
   },
   {
    "duration": 2186,
    "start_time": "2024-12-09T03:47:19.277Z"
   },
   {
    "duration": 22,
    "start_time": "2024-12-09T03:47:22.429Z"
   },
   {
    "duration": 9,
    "start_time": "2024-12-09T03:47:22.867Z"
   },
   {
    "duration": 7,
    "start_time": "2024-12-09T03:47:23.461Z"
   },
   {
    "duration": 8,
    "start_time": "2024-12-09T03:47:23.996Z"
   },
   {
    "duration": 123,
    "start_time": "2024-12-09T03:47:28.235Z"
   },
   {
    "duration": 14,
    "start_time": "2024-12-09T03:51:47.810Z"
   },
   {
    "duration": 171,
    "start_time": "2024-12-09T03:51:56.668Z"
   },
   {
    "duration": 178,
    "start_time": "2024-12-09T03:52:07.942Z"
   },
   {
    "duration": 12,
    "start_time": "2024-12-09T03:52:28.318Z"
   },
   {
    "duration": 179,
    "start_time": "2024-12-09T03:52:37.127Z"
   },
   {
    "duration": 353,
    "start_time": "2024-12-09T03:53:57.217Z"
   },
   {
    "duration": 356,
    "start_time": "2024-12-09T03:54:22.100Z"
   },
   {
    "duration": 365,
    "start_time": "2024-12-09T03:54:27.553Z"
   },
   {
    "duration": 364,
    "start_time": "2024-12-09T03:57:07.698Z"
   },
   {
    "duration": 689,
    "start_time": "2024-12-09T03:57:29.634Z"
   },
   {
    "duration": 352,
    "start_time": "2024-12-09T03:57:49.572Z"
   },
   {
    "duration": 531,
    "start_time": "2024-12-09T04:02:44.135Z"
   },
   {
    "duration": 183,
    "start_time": "2024-12-09T04:02:58.819Z"
   },
   {
    "duration": 183,
    "start_time": "2024-12-09T04:03:04.142Z"
   },
   {
    "duration": 573,
    "start_time": "2024-12-09T04:04:10.338Z"
   },
   {
    "duration": 355,
    "start_time": "2024-12-09T04:06:08.185Z"
   },
   {
    "duration": 367,
    "start_time": "2024-12-09T04:08:13.917Z"
   },
   {
    "duration": 2370,
    "start_time": "2024-12-09T04:10:26.816Z"
   },
   {
    "duration": 20,
    "start_time": "2024-12-09T04:10:29.189Z"
   },
   {
    "duration": 8,
    "start_time": "2024-12-09T04:10:29.211Z"
   },
   {
    "duration": 8,
    "start_time": "2024-12-09T04:10:30.264Z"
   },
   {
    "duration": 13,
    "start_time": "2024-12-09T04:10:30.943Z"
   },
   {
    "duration": 124,
    "start_time": "2024-12-09T04:10:31.540Z"
   },
   {
    "duration": 341,
    "start_time": "2024-12-09T04:10:36.956Z"
   },
   {
    "duration": 12,
    "start_time": "2024-12-09T04:22:51.870Z"
   },
   {
    "duration": 12,
    "start_time": "2024-12-09T04:23:20.909Z"
   },
   {
    "duration": 284,
    "start_time": "2024-12-09T04:26:27.505Z"
   },
   {
    "duration": 38,
    "start_time": "2024-12-09T04:26:49.996Z"
   },
   {
    "duration": 43,
    "start_time": "2024-12-09T04:27:30.690Z"
   },
   {
    "duration": 38,
    "start_time": "2024-12-09T04:27:34.443Z"
   },
   {
    "duration": 38,
    "start_time": "2024-12-09T04:28:00.706Z"
   },
   {
    "duration": 39,
    "start_time": "2024-12-09T04:28:14.945Z"
   },
   {
    "duration": 39,
    "start_time": "2024-12-09T04:28:45.030Z"
   },
   {
    "duration": 42,
    "start_time": "2024-12-09T04:29:00.567Z"
   },
   {
    "duration": 4,
    "start_time": "2024-12-09T04:29:12.457Z"
   },
   {
    "duration": 2190,
    "start_time": "2024-12-09T04:29:12.870Z"
   },
   {
    "duration": 21,
    "start_time": "2024-12-09T04:29:15.062Z"
   },
   {
    "duration": 9,
    "start_time": "2024-12-09T04:29:15.085Z"
   },
   {
    "duration": 7,
    "start_time": "2024-12-09T04:29:15.629Z"
   },
   {
    "duration": 7,
    "start_time": "2024-12-09T04:29:16.136Z"
   },
   {
    "duration": 124,
    "start_time": "2024-12-09T04:29:16.607Z"
   },
   {
    "duration": 354,
    "start_time": "2024-12-09T04:29:19.514Z"
   },
   {
    "duration": 38,
    "start_time": "2024-12-09T04:29:22.006Z"
   },
   {
    "duration": 353,
    "start_time": "2024-12-09T04:29:32.416Z"
   },
   {
    "duration": 2,
    "start_time": "2024-12-09T04:32:07.924Z"
   },
   {
    "duration": 2061,
    "start_time": "2024-12-09T04:32:08.246Z"
   },
   {
    "duration": 20,
    "start_time": "2024-12-09T04:32:10.309Z"
   },
   {
    "duration": 16,
    "start_time": "2024-12-09T04:32:10.331Z"
   },
   {
    "duration": 6,
    "start_time": "2024-12-09T04:32:10.350Z"
   },
   {
    "duration": 7,
    "start_time": "2024-12-09T04:32:10.358Z"
   },
   {
    "duration": 147,
    "start_time": "2024-12-09T04:32:10.367Z"
   },
   {
    "duration": 3,
    "start_time": "2024-12-09T04:32:26.640Z"
   },
   {
    "duration": 1145,
    "start_time": "2024-12-09T04:32:27.018Z"
   },
   {
    "duration": 11,
    "start_time": "2024-12-09T04:32:28.165Z"
   },
   {
    "duration": 11,
    "start_time": "2024-12-09T04:32:28.178Z"
   },
   {
    "duration": 9,
    "start_time": "2024-12-09T04:32:28.208Z"
   },
   {
    "duration": 12,
    "start_time": "2024-12-09T04:32:28.795Z"
   },
   {
    "duration": 25,
    "start_time": "2024-12-09T04:32:28.929Z"
   },
   {
    "duration": 144,
    "start_time": "2024-12-09T04:32:31.199Z"
   },
   {
    "duration": 12,
    "start_time": "2024-12-09T04:33:22.276Z"
   },
   {
    "duration": 7,
    "start_time": "2024-12-09T04:33:53.748Z"
   },
   {
    "duration": 78,
    "start_time": "2024-12-09T04:38:58.074Z"
   },
   {
    "duration": 71,
    "start_time": "2024-12-09T04:41:21.035Z"
   },
   {
    "duration": 74,
    "start_time": "2024-12-09T04:41:38.009Z"
   },
   {
    "duration": 76,
    "start_time": "2024-12-09T04:41:41.809Z"
   },
   {
    "duration": 74,
    "start_time": "2024-12-09T04:41:59.908Z"
   },
   {
    "duration": 73,
    "start_time": "2024-12-09T04:42:01.934Z"
   },
   {
    "duration": 3,
    "start_time": "2024-12-09T04:42:03.181Z"
   },
   {
    "duration": 22,
    "start_time": "2024-12-09T04:43:05.353Z"
   },
   {
    "duration": 18,
    "start_time": "2024-12-09T04:51:39.383Z"
   },
   {
    "duration": 17,
    "start_time": "2024-12-09T04:52:24.453Z"
   },
   {
    "duration": 39,
    "start_time": "2024-12-09T04:52:34.644Z"
   },
   {
    "duration": 4,
    "start_time": "2024-12-09T04:52:57.178Z"
   },
   {
    "duration": 20,
    "start_time": "2024-12-09T04:54:14.279Z"
   },
   {
    "duration": 22,
    "start_time": "2024-12-09T04:55:37.925Z"
   },
   {
    "duration": 21,
    "start_time": "2024-12-09T04:55:47.070Z"
   },
   {
    "duration": 11,
    "start_time": "2024-12-09T05:00:25.445Z"
   },
   {
    "duration": 47,
    "start_time": "2024-12-09T05:02:20.164Z"
   },
   {
    "duration": 11,
    "start_time": "2024-12-09T05:06:51.527Z"
   },
   {
    "duration": 12,
    "start_time": "2024-12-09T05:07:38.258Z"
   },
   {
    "duration": 13,
    "start_time": "2024-12-09T05:13:54.659Z"
   },
   {
    "duration": 12,
    "start_time": "2024-12-09T05:14:31.089Z"
   },
   {
    "duration": 14,
    "start_time": "2024-12-09T05:15:03.426Z"
   },
   {
    "duration": 2,
    "start_time": "2024-12-09T05:16:23.025Z"
   },
   {
    "duration": 832,
    "start_time": "2024-12-09T05:16:23.411Z"
   },
   {
    "duration": 11,
    "start_time": "2024-12-09T05:16:24.245Z"
   },
   {
    "duration": 9,
    "start_time": "2024-12-09T05:16:24.258Z"
   },
   {
    "duration": 8,
    "start_time": "2024-12-09T05:16:24.807Z"
   },
   {
    "duration": 9,
    "start_time": "2024-12-09T05:16:25.458Z"
   },
   {
    "duration": 20,
    "start_time": "2024-12-09T05:16:25.967Z"
   },
   {
    "duration": 128,
    "start_time": "2024-12-09T05:16:28.647Z"
   },
   {
    "duration": 7,
    "start_time": "2024-12-09T05:16:30.396Z"
   },
   {
    "duration": 77,
    "start_time": "2024-12-09T05:16:36.798Z"
   },
   {
    "duration": 82,
    "start_time": "2024-12-09T05:16:38.675Z"
   },
   {
    "duration": 25,
    "start_time": "2024-12-09T05:16:39.760Z"
   },
   {
    "duration": 20,
    "start_time": "2024-12-09T05:16:45.630Z"
   },
   {
    "duration": 4,
    "start_time": "2024-12-09T05:16:52.493Z"
   },
   {
    "duration": 21,
    "start_time": "2024-12-09T05:16:55.881Z"
   },
   {
    "duration": 12,
    "start_time": "2024-12-09T05:16:59.897Z"
   },
   {
    "duration": 12,
    "start_time": "2024-12-09T05:18:18.152Z"
   },
   {
    "duration": 4,
    "start_time": "2024-12-09T05:18:24.855Z"
   },
   {
    "duration": 37,
    "start_time": "2024-12-09T05:18:47.486Z"
   },
   {
    "duration": 4,
    "start_time": "2024-12-09T05:18:54.477Z"
   },
   {
    "duration": 4,
    "start_time": "2024-12-09T05:19:24.332Z"
   },
   {
    "duration": 3,
    "start_time": "2024-12-09T05:20:00.715Z"
   },
   {
    "duration": 217,
    "start_time": "2024-12-09T05:20:31.847Z"
   },
   {
    "duration": 746,
    "start_time": "2024-12-09T05:20:36.278Z"
   },
   {
    "duration": 321,
    "start_time": "2024-12-09T05:21:01.758Z"
   },
   {
    "duration": 479,
    "start_time": "2024-12-09T05:21:30.551Z"
   },
   {
    "duration": 258,
    "start_time": "2024-12-09T05:22:03.129Z"
   },
   {
    "duration": 154,
    "start_time": "2024-12-09T05:22:16.592Z"
   },
   {
    "duration": 4,
    "start_time": "2024-12-09T05:22:48.915Z"
   },
   {
    "duration": 187,
    "start_time": "2024-12-09T05:22:55.786Z"
   },
   {
    "duration": 155,
    "start_time": "2024-12-09T05:23:29.934Z"
   },
   {
    "duration": 156,
    "start_time": "2024-12-10T00:35:12.039Z"
   },
   {
    "duration": 2021,
    "start_time": "2024-12-10T00:35:21.329Z"
   },
   {
    "duration": 1030,
    "start_time": "2024-12-10T00:35:23.352Z"
   },
   {
    "duration": 11,
    "start_time": "2024-12-10T00:35:24.384Z"
   },
   {
    "duration": 19,
    "start_time": "2024-12-10T00:35:24.397Z"
   },
   {
    "duration": 8,
    "start_time": "2024-12-10T00:35:24.417Z"
   },
   {
    "duration": 8,
    "start_time": "2024-12-10T00:35:24.427Z"
   },
   {
    "duration": 23,
    "start_time": "2024-12-10T00:35:24.437Z"
   },
   {
    "duration": 165,
    "start_time": "2024-12-10T00:35:26.975Z"
   },
   {
    "duration": 9,
    "start_time": "2024-12-10T00:35:27.841Z"
   },
   {
    "duration": 92,
    "start_time": "2024-12-10T00:35:28.585Z"
   },
   {
    "duration": 86,
    "start_time": "2024-12-10T00:35:29.574Z"
   },
   {
    "duration": 28,
    "start_time": "2024-12-10T00:35:29.988Z"
   },
   {
    "duration": 21,
    "start_time": "2024-12-10T00:35:31.561Z"
   },
   {
    "duration": 4,
    "start_time": "2024-12-10T00:35:32.020Z"
   },
   {
    "duration": 22,
    "start_time": "2024-12-10T00:35:32.579Z"
   },
   {
    "duration": 13,
    "start_time": "2024-12-10T00:35:36.119Z"
   },
   {
    "duration": 7,
    "start_time": "2024-12-10T00:35:38.732Z"
   },
   {
    "duration": 358,
    "start_time": "2024-12-10T00:36:13.727Z"
   },
   {
    "duration": 42,
    "start_time": "2024-12-10T00:36:56.177Z"
   },
   {
    "duration": 39,
    "start_time": "2024-12-10T00:37:07.666Z"
   },
   {
    "duration": 38,
    "start_time": "2024-12-10T00:37:22.879Z"
   },
   {
    "duration": 15,
    "start_time": "2024-12-10T00:37:42.622Z"
   },
   {
    "duration": 3,
    "start_time": "2024-12-10T00:38:46.835Z"
   },
   {
    "duration": 870,
    "start_time": "2024-12-10T00:38:46.993Z"
   },
   {
    "duration": 10,
    "start_time": "2024-12-10T00:38:47.866Z"
   },
   {
    "duration": 25,
    "start_time": "2024-12-10T00:38:47.878Z"
   },
   {
    "duration": 26,
    "start_time": "2024-12-10T00:38:47.905Z"
   },
   {
    "duration": 22,
    "start_time": "2024-12-10T00:38:47.932Z"
   },
   {
    "duration": 30,
    "start_time": "2024-12-10T00:38:47.956Z"
   },
   {
    "duration": 143,
    "start_time": "2024-12-10T00:38:48.909Z"
   },
   {
    "duration": 7,
    "start_time": "2024-12-10T00:38:49.302Z"
   },
   {
    "duration": 80,
    "start_time": "2024-12-10T00:38:49.884Z"
   },
   {
    "duration": 89,
    "start_time": "2024-12-10T00:38:50.132Z"
   },
   {
    "duration": 27,
    "start_time": "2024-12-10T00:38:50.394Z"
   },
   {
    "duration": 19,
    "start_time": "2024-12-10T00:38:51.274Z"
   },
   {
    "duration": 5,
    "start_time": "2024-12-10T00:38:55.032Z"
   },
   {
    "duration": 23,
    "start_time": "2024-12-10T00:38:58.271Z"
   },
   {
    "duration": 14,
    "start_time": "2024-12-10T00:39:00.157Z"
   },
   {
    "duration": 293,
    "start_time": "2024-12-10T00:39:17.311Z"
   },
   {
    "duration": 13,
    "start_time": "2024-12-10T00:39:54.496Z"
   },
   {
    "duration": 7,
    "start_time": "2024-12-10T00:39:58.039Z"
   },
   {
    "duration": 224,
    "start_time": "2024-12-10T00:46:09.375Z"
   },
   {
    "duration": 50,
    "start_time": "2024-12-10T00:47:08.117Z"
   },
   {
    "duration": 28,
    "start_time": "2024-12-10T00:47:38.697Z"
   },
   {
    "duration": 8,
    "start_time": "2024-12-10T00:49:13.539Z"
   },
   {
    "duration": 5,
    "start_time": "2024-12-10T00:54:29.262Z"
   },
   {
    "duration": 6,
    "start_time": "2024-12-10T00:55:56.923Z"
   },
   {
    "duration": 6,
    "start_time": "2024-12-10T00:57:11.045Z"
   },
   {
    "duration": 9,
    "start_time": "2024-12-10T00:57:43.188Z"
   },
   {
    "duration": 5,
    "start_time": "2024-12-10T00:59:16.741Z"
   },
   {
    "duration": 8,
    "start_time": "2024-12-10T01:00:21.446Z"
   },
   {
    "duration": 7,
    "start_time": "2024-12-10T01:00:43.917Z"
   },
   {
    "duration": 13,
    "start_time": "2024-12-10T01:17:14.169Z"
   },
   {
    "duration": 6,
    "start_time": "2024-12-10T01:18:29.336Z"
   },
   {
    "duration": 35,
    "start_time": "2024-12-10T01:23:58.352Z"
   },
   {
    "duration": 41,
    "start_time": "2024-12-10T01:41:40.248Z"
   },
   {
    "duration": 11,
    "start_time": "2024-12-10T01:47:44.227Z"
   },
   {
    "duration": 11,
    "start_time": "2024-12-10T01:51:28.161Z"
   },
   {
    "duration": 5,
    "start_time": "2024-12-10T01:51:44.582Z"
   },
   {
    "duration": 4,
    "start_time": "2024-12-10T01:52:10.142Z"
   },
   {
    "duration": 5,
    "start_time": "2024-12-10T01:52:16.619Z"
   },
   {
    "duration": 4,
    "start_time": "2024-12-10T01:57:53.470Z"
   },
   {
    "duration": 7,
    "start_time": "2024-12-10T01:58:06.910Z"
   },
   {
    "duration": 4,
    "start_time": "2024-12-10T01:58:22.751Z"
   },
   {
    "duration": 8,
    "start_time": "2024-12-10T01:58:52.611Z"
   },
   {
    "duration": 15,
    "start_time": "2024-12-10T02:06:49.153Z"
   },
   {
    "duration": 6,
    "start_time": "2024-12-10T02:06:54.922Z"
   },
   {
    "duration": 6,
    "start_time": "2024-12-10T02:11:37.263Z"
   },
   {
    "duration": 4,
    "start_time": "2024-12-10T02:45:09.197Z"
   },
   {
    "duration": 4,
    "start_time": "2024-12-10T02:51:39.807Z"
   },
   {
    "duration": 3,
    "start_time": "2024-12-10T02:52:10.635Z"
   },
   {
    "duration": 4,
    "start_time": "2024-12-10T02:52:16.159Z"
   },
   {
    "duration": 3,
    "start_time": "2024-12-10T02:52:16.628Z"
   },
   {
    "duration": 3,
    "start_time": "2024-12-10T02:52:28.045Z"
   },
   {
    "duration": 4,
    "start_time": "2024-12-10T02:52:30.598Z"
   },
   {
    "duration": 4,
    "start_time": "2024-12-10T02:52:30.922Z"
   },
   {
    "duration": 10,
    "start_time": "2024-12-10T02:59:31.339Z"
   },
   {
    "duration": 17,
    "start_time": "2024-12-10T03:00:00.515Z"
   },
   {
    "duration": 18,
    "start_time": "2024-12-10T03:00:51.143Z"
   },
   {
    "duration": 19,
    "start_time": "2024-12-10T03:02:01.972Z"
   },
   {
    "duration": 23,
    "start_time": "2024-12-10T03:02:28.767Z"
   },
   {
    "duration": 121,
    "start_time": "2024-12-10T03:03:27.644Z"
   },
   {
    "duration": 107,
    "start_time": "2024-12-10T03:04:26.175Z"
   },
   {
    "duration": 5,
    "start_time": "2024-12-10T03:05:10.068Z"
   },
   {
    "duration": 10,
    "start_time": "2024-12-10T03:05:13.283Z"
   },
   {
    "duration": 5,
    "start_time": "2024-12-10T03:05:20.945Z"
   },
   {
    "duration": 11,
    "start_time": "2024-12-10T03:05:21.576Z"
   },
   {
    "duration": 6,
    "start_time": "2024-12-10T03:09:00.892Z"
   },
   {
    "duration": 4,
    "start_time": "2024-12-10T03:09:13.077Z"
   },
   {
    "duration": 5,
    "start_time": "2024-12-10T03:37:57.806Z"
   },
   {
    "duration": 4,
    "start_time": "2024-12-10T03:40:47.717Z"
   },
   {
    "duration": 217,
    "start_time": "2024-12-10T03:49:42.687Z"
   },
   {
    "duration": 40,
    "start_time": "2024-12-10T03:49:54.818Z"
   },
   {
    "duration": 8,
    "start_time": "2024-12-10T03:50:02.146Z"
   },
   {
    "duration": 105,
    "start_time": "2024-12-10T03:55:12.617Z"
   },
   {
    "duration": 817,
    "start_time": "2024-12-10T03:57:56.998Z"
   },
   {
    "duration": 17,
    "start_time": "2024-12-10T04:00:15.629Z"
   },
   {
    "duration": 5,
    "start_time": "2024-12-10T04:00:27.172Z"
   },
   {
    "duration": 915,
    "start_time": "2024-12-10T04:00:27.180Z"
   },
   {
    "duration": 12,
    "start_time": "2024-12-10T04:00:28.099Z"
   },
   {
    "duration": 13,
    "start_time": "2024-12-10T04:00:28.113Z"
   },
   {
    "duration": 11,
    "start_time": "2024-12-10T04:00:28.130Z"
   },
   {
    "duration": 9,
    "start_time": "2024-12-10T04:00:28.143Z"
   },
   {
    "duration": 25,
    "start_time": "2024-12-10T04:00:28.154Z"
   },
   {
    "duration": 215,
    "start_time": "2024-12-10T04:00:28.181Z"
   },
   {
    "duration": 13,
    "start_time": "2024-12-10T04:00:28.398Z"
   },
   {
    "duration": 135,
    "start_time": "2024-12-10T04:00:28.413Z"
   },
   {
    "duration": 77,
    "start_time": "2024-12-10T04:00:28.550Z"
   },
   {
    "duration": 25,
    "start_time": "2024-12-10T04:00:28.629Z"
   },
   {
    "duration": 22,
    "start_time": "2024-12-10T04:00:28.656Z"
   },
   {
    "duration": 26,
    "start_time": "2024-12-10T04:00:28.683Z"
   },
   {
    "duration": 23,
    "start_time": "2024-12-10T04:00:28.711Z"
   },
   {
    "duration": 12,
    "start_time": "2024-12-10T04:00:28.736Z"
   },
   {
    "duration": 10,
    "start_time": "2024-12-10T04:00:28.749Z"
   },
   {
    "duration": 5,
    "start_time": "2024-12-10T04:00:28.761Z"
   },
   {
    "duration": 4,
    "start_time": "2024-12-10T04:00:28.768Z"
   },
   {
    "duration": 35,
    "start_time": "2024-12-10T04:00:28.775Z"
   },
   {
    "duration": 6,
    "start_time": "2024-12-10T04:00:28.812Z"
   },
   {
    "duration": 4,
    "start_time": "2024-12-10T04:00:28.820Z"
   },
   {
    "duration": 872,
    "start_time": "2024-12-10T04:00:28.825Z"
   },
   {
    "duration": 217,
    "start_time": "2024-12-10T04:00:29.699Z"
   },
   {
    "duration": 239,
    "start_time": "2024-12-10T04:00:29.918Z"
   },
   {
    "duration": 27,
    "start_time": "2024-12-10T04:00:30.159Z"
   },
   {
    "duration": 21,
    "start_time": "2024-12-10T04:00:30.188Z"
   },
   {
    "duration": 6,
    "start_time": "2024-12-10T04:00:30.212Z"
   },
   {
    "duration": 5,
    "start_time": "2024-12-10T04:00:30.220Z"
   },
   {
    "duration": 7,
    "start_time": "2024-12-10T04:00:30.227Z"
   },
   {
    "duration": 7,
    "start_time": "2024-12-10T04:00:30.235Z"
   },
   {
    "duration": 15,
    "start_time": "2024-12-10T04:00:30.244Z"
   },
   {
    "duration": 5,
    "start_time": "2024-12-10T04:00:30.260Z"
   },
   {
    "duration": 44,
    "start_time": "2024-12-10T04:00:30.266Z"
   },
   {
    "duration": 13,
    "start_time": "2024-12-10T04:00:30.313Z"
   },
   {
    "duration": 6,
    "start_time": "2024-12-10T04:00:30.328Z"
   },
   {
    "duration": 9,
    "start_time": "2024-12-10T04:00:30.335Z"
   },
   {
    "duration": 4,
    "start_time": "2024-12-10T04:00:30.346Z"
   },
   {
    "duration": 14,
    "start_time": "2024-12-10T04:00:30.351Z"
   },
   {
    "duration": 5,
    "start_time": "2024-12-10T04:00:30.367Z"
   },
   {
    "duration": 33,
    "start_time": "2024-12-10T04:00:30.376Z"
   },
   {
    "duration": 5,
    "start_time": "2024-12-10T04:00:30.411Z"
   },
   {
    "duration": 16,
    "start_time": "2024-12-10T04:00:30.418Z"
   },
   {
    "duration": 126,
    "start_time": "2024-12-10T04:01:22.005Z"
   },
   {
    "duration": 112,
    "start_time": "2024-12-10T04:01:44.337Z"
   },
   {
    "duration": 113,
    "start_time": "2024-12-10T04:02:15.207Z"
   },
   {
    "duration": 116,
    "start_time": "2024-12-10T04:02:23.683Z"
   },
   {
    "duration": 134,
    "start_time": "2024-12-10T04:04:41.855Z"
   },
   {
    "duration": 4,
    "start_time": "2024-12-10T04:09:56.898Z"
   },
   {
    "duration": 4,
    "start_time": "2024-12-10T04:10:37.469Z"
   },
   {
    "duration": 5,
    "start_time": "2024-12-10T04:10:50.714Z"
   },
   {
    "duration": 4,
    "start_time": "2024-12-10T04:11:23.183Z"
   },
   {
    "duration": 132,
    "start_time": "2024-12-10T04:18:51.116Z"
   },
   {
    "duration": 6,
    "start_time": "2024-12-10T04:18:59.277Z"
   },
   {
    "duration": 52,
    "start_time": "2024-12-10T04:19:42.911Z"
   },
   {
    "duration": 42,
    "start_time": "2024-12-10T04:19:49.256Z"
   },
   {
    "duration": 14,
    "start_time": "2024-12-10T04:20:18.631Z"
   },
   {
    "duration": 7,
    "start_time": "2024-12-10T04:20:31.677Z"
   },
   {
    "duration": 108,
    "start_time": "2024-12-10T04:22:27.340Z"
   },
   {
    "duration": 108,
    "start_time": "2024-12-10T04:22:43.913Z"
   },
   {
    "duration": 114,
    "start_time": "2024-12-10T04:23:39.869Z"
   },
   {
    "duration": 114,
    "start_time": "2024-12-10T04:23:45.190Z"
   },
   {
    "duration": 113,
    "start_time": "2024-12-10T04:23:55.813Z"
   },
   {
    "duration": 132,
    "start_time": "2024-12-10T04:24:53.390Z"
   },
   {
    "duration": 118,
    "start_time": "2024-12-10T04:26:05.345Z"
   },
   {
    "duration": 133,
    "start_time": "2024-12-10T04:26:12.119Z"
   },
   {
    "duration": 114,
    "start_time": "2024-12-10T04:26:47.781Z"
   },
   {
    "duration": 7,
    "start_time": "2024-12-10T04:27:15.565Z"
   },
   {
    "duration": 117,
    "start_time": "2024-12-10T04:28:02.944Z"
   },
   {
    "duration": 42,
    "start_time": "2024-12-10T04:41:57.628Z"
   },
   {
    "duration": 10,
    "start_time": "2024-12-10T04:42:05.664Z"
   },
   {
    "duration": 350,
    "start_time": "2024-12-10T04:45:18.489Z"
   },
   {
    "duration": 129,
    "start_time": "2024-12-10T04:45:27.949Z"
   },
   {
    "duration": 194,
    "start_time": "2024-12-10T04:45:41.015Z"
   },
   {
    "duration": 196,
    "start_time": "2024-12-10T04:46:36.224Z"
   },
   {
    "duration": 201,
    "start_time": "2024-12-10T04:50:24.437Z"
   },
   {
    "duration": 194,
    "start_time": "2024-12-10T04:51:15.219Z"
   },
   {
    "duration": 328,
    "start_time": "2024-12-10T04:51:42.683Z"
   },
   {
    "duration": 4,
    "start_time": "2024-12-10T05:18:20.159Z"
   },
   {
    "duration": 73,
    "start_time": "2024-12-10T05:18:26.330Z"
   },
   {
    "duration": 39,
    "start_time": "2024-12-10T05:19:01.920Z"
   },
   {
    "duration": 40,
    "start_time": "2024-12-10T05:19:19.507Z"
   },
   {
    "duration": 14,
    "start_time": "2024-12-10T05:20:15.725Z"
   },
   {
    "duration": 46,
    "start_time": "2024-12-10T05:20:30.957Z"
   },
   {
    "duration": 151,
    "start_time": "2024-12-10T05:20:37.197Z"
   },
   {
    "duration": 8,
    "start_time": "2024-12-10T05:20:43.197Z"
   },
   {
    "duration": 8,
    "start_time": "2024-12-10T05:25:06.776Z"
   },
   {
    "duration": 8,
    "start_time": "2024-12-10T05:25:18.937Z"
   },
   {
    "duration": 9,
    "start_time": "2024-12-10T05:25:24.951Z"
   },
   {
    "duration": 7,
    "start_time": "2024-12-10T05:25:37.838Z"
   },
   {
    "duration": 38,
    "start_time": "2024-12-10T05:31:55.668Z"
   },
   {
    "duration": 175,
    "start_time": "2024-12-10T05:32:42.101Z"
   },
   {
    "duration": 161,
    "start_time": "2024-12-10T05:32:52.979Z"
   },
   {
    "duration": 190,
    "start_time": "2024-12-10T05:33:07.216Z"
   },
   {
    "duration": 164,
    "start_time": "2024-12-10T05:33:15.520Z"
   },
   {
    "duration": 8,
    "start_time": "2024-12-10T05:33:20.320Z"
   },
   {
    "duration": 163,
    "start_time": "2024-12-10T05:33:20.776Z"
   },
   {
    "duration": 162,
    "start_time": "2024-12-10T05:33:21.722Z"
   },
   {
    "duration": 40,
    "start_time": "2024-12-10T05:39:01.933Z"
   },
   {
    "duration": 36,
    "start_time": "2024-12-10T05:39:28.313Z"
   },
   {
    "duration": 430,
    "start_time": "2024-12-10T05:41:02.452Z"
   },
   {
    "duration": 921,
    "start_time": "2024-12-10T05:41:02.884Z"
   },
   {
    "duration": 10,
    "start_time": "2024-12-10T05:41:03.807Z"
   },
   {
    "duration": 9,
    "start_time": "2024-12-10T05:41:03.819Z"
   },
   {
    "duration": 8,
    "start_time": "2024-12-10T05:41:03.830Z"
   },
   {
    "duration": 9,
    "start_time": "2024-12-10T05:41:03.839Z"
   },
   {
    "duration": 24,
    "start_time": "2024-12-10T05:41:03.849Z"
   },
   {
    "duration": 199,
    "start_time": "2024-12-10T05:41:03.874Z"
   },
   {
    "duration": 9,
    "start_time": "2024-12-10T05:41:04.075Z"
   },
   {
    "duration": 104,
    "start_time": "2024-12-10T05:41:04.085Z"
   },
   {
    "duration": 92,
    "start_time": "2024-12-10T05:41:04.190Z"
   },
   {
    "duration": 41,
    "start_time": "2024-12-10T05:41:04.284Z"
   },
   {
    "duration": 27,
    "start_time": "2024-12-10T05:41:04.327Z"
   },
   {
    "duration": 5,
    "start_time": "2024-12-10T05:41:04.359Z"
   },
   {
    "duration": 46,
    "start_time": "2024-12-10T05:41:04.365Z"
   },
   {
    "duration": 10,
    "start_time": "2024-12-10T05:41:04.412Z"
   },
   {
    "duration": 9,
    "start_time": "2024-12-10T05:41:04.423Z"
   },
   {
    "duration": 4,
    "start_time": "2024-12-10T05:41:04.434Z"
   },
   {
    "duration": 5,
    "start_time": "2024-12-10T05:41:04.440Z"
   },
   {
    "duration": 4,
    "start_time": "2024-12-10T05:41:04.447Z"
   },
   {
    "duration": 4,
    "start_time": "2024-12-10T05:41:04.453Z"
   },
   {
    "duration": 4,
    "start_time": "2024-12-10T05:41:04.459Z"
   },
   {
    "duration": 825,
    "start_time": "2024-12-10T05:41:04.464Z"
   },
   {
    "duration": 170,
    "start_time": "2024-12-10T05:41:05.290Z"
   },
   {
    "duration": 235,
    "start_time": "2024-12-10T05:41:05.462Z"
   },
   {
    "duration": 31,
    "start_time": "2024-12-10T05:41:05.700Z"
   },
   {
    "duration": 8,
    "start_time": "2024-12-10T05:41:05.733Z"
   },
   {
    "duration": 4,
    "start_time": "2024-12-10T05:41:05.742Z"
   },
   {
    "duration": 4,
    "start_time": "2024-12-10T05:41:05.748Z"
   },
   {
    "duration": 5,
    "start_time": "2024-12-10T05:41:05.755Z"
   },
   {
    "duration": 7,
    "start_time": "2024-12-10T05:41:05.762Z"
   },
   {
    "duration": 45,
    "start_time": "2024-12-10T05:41:05.770Z"
   },
   {
    "duration": 4,
    "start_time": "2024-12-10T05:41:05.817Z"
   },
   {
    "duration": 4,
    "start_time": "2024-12-10T05:41:05.822Z"
   },
   {
    "duration": 8,
    "start_time": "2024-12-10T05:41:05.827Z"
   },
   {
    "duration": 6,
    "start_time": "2024-12-10T05:41:05.836Z"
   },
   {
    "duration": 5,
    "start_time": "2024-12-10T05:41:05.843Z"
   },
   {
    "duration": 5,
    "start_time": "2024-12-10T05:41:05.849Z"
   },
   {
    "duration": 11,
    "start_time": "2024-12-10T05:41:05.855Z"
   },
   {
    "duration": 44,
    "start_time": "2024-12-10T05:41:05.867Z"
   },
   {
    "duration": 3,
    "start_time": "2024-12-10T05:41:05.916Z"
   },
   {
    "duration": 3,
    "start_time": "2024-12-10T05:41:05.922Z"
   },
   {
    "duration": 212,
    "start_time": "2024-12-10T05:41:05.927Z"
   },
   {
    "duration": 125,
    "start_time": "2024-12-10T05:41:06.141Z"
   },
   {
    "duration": 199,
    "start_time": "2024-12-10T05:41:06.271Z"
   },
   {
    "duration": 9,
    "start_time": "2024-12-10T05:41:06.472Z"
   },
   {
    "duration": 7,
    "start_time": "2024-12-10T05:41:06.482Z"
   },
   {
    "duration": 180,
    "start_time": "2024-12-10T05:41:06.490Z"
   },
   {
    "duration": 185,
    "start_time": "2024-12-10T05:41:06.672Z"
   },
   {
    "duration": 37,
    "start_time": "2024-12-10T05:41:06.859Z"
   },
   {
    "duration": 156,
    "start_time": "2024-12-11T05:15:29.076Z"
   },
   {
    "duration": 13,
    "start_time": "2024-12-11T05:15:29.489Z"
   },
   {
    "duration": 2125,
    "start_time": "2024-12-11T05:15:44.208Z"
   },
   {
    "duration": 1043,
    "start_time": "2024-12-11T05:15:46.335Z"
   },
   {
    "duration": 13,
    "start_time": "2024-12-11T05:15:47.381Z"
   },
   {
    "duration": 23,
    "start_time": "2024-12-11T05:15:47.395Z"
   },
   {
    "duration": 8,
    "start_time": "2024-12-11T05:15:47.421Z"
   },
   {
    "duration": 7,
    "start_time": "2024-12-11T05:15:47.431Z"
   },
   {
    "duration": 22,
    "start_time": "2024-12-11T05:15:47.439Z"
   },
   {
    "duration": 195,
    "start_time": "2024-12-11T05:15:47.463Z"
   },
   {
    "duration": 9,
    "start_time": "2024-12-11T05:15:47.660Z"
   },
   {
    "duration": 100,
    "start_time": "2024-12-11T05:15:47.670Z"
   },
   {
    "duration": 84,
    "start_time": "2024-12-11T05:15:47.772Z"
   },
   {
    "duration": 27,
    "start_time": "2024-12-11T05:15:47.858Z"
   },
   {
    "duration": 31,
    "start_time": "2024-12-11T05:15:47.887Z"
   },
   {
    "duration": 3,
    "start_time": "2024-12-11T05:15:47.922Z"
   },
   {
    "duration": 22,
    "start_time": "2024-12-11T05:15:47.927Z"
   },
   {
    "duration": 10,
    "start_time": "2024-12-11T05:15:47.950Z"
   },
   {
    "duration": 9,
    "start_time": "2024-12-11T05:15:47.962Z"
   },
   {
    "duration": 5,
    "start_time": "2024-12-11T05:15:47.972Z"
   },
   {
    "duration": 4,
    "start_time": "2024-12-11T05:15:48.011Z"
   },
   {
    "duration": 4,
    "start_time": "2024-12-11T05:15:48.018Z"
   },
   {
    "duration": 7,
    "start_time": "2024-12-11T05:15:48.024Z"
   },
   {
    "duration": 3,
    "start_time": "2024-12-11T05:15:48.033Z"
   },
   {
    "duration": 757,
    "start_time": "2024-12-11T05:15:48.038Z"
   },
   {
    "duration": 166,
    "start_time": "2024-12-11T05:15:48.797Z"
   },
   {
    "duration": 227,
    "start_time": "2024-12-11T05:15:48.965Z"
   },
   {
    "duration": 29,
    "start_time": "2024-12-11T05:15:49.193Z"
   },
   {
    "duration": 8,
    "start_time": "2024-12-11T05:15:49.225Z"
   },
   {
    "duration": 5,
    "start_time": "2024-12-11T05:15:49.234Z"
   },
   {
    "duration": 4,
    "start_time": "2024-12-11T05:15:49.241Z"
   },
   {
    "duration": 6,
    "start_time": "2024-12-11T05:15:49.247Z"
   },
   {
    "duration": 6,
    "start_time": "2024-12-11T05:15:49.254Z"
   },
   {
    "duration": 11,
    "start_time": "2024-12-11T05:15:49.262Z"
   },
   {
    "duration": 4,
    "start_time": "2024-12-11T05:15:49.311Z"
   },
   {
    "duration": 5,
    "start_time": "2024-12-11T05:15:49.316Z"
   },
   {
    "duration": 7,
    "start_time": "2024-12-11T05:15:49.323Z"
   },
   {
    "duration": 5,
    "start_time": "2024-12-11T05:15:49.331Z"
   },
   {
    "duration": 6,
    "start_time": "2024-12-11T05:15:49.337Z"
   },
   {
    "duration": 3,
    "start_time": "2024-12-11T05:15:49.344Z"
   },
   {
    "duration": 11,
    "start_time": "2024-12-11T05:15:49.349Z"
   },
   {
    "duration": 4,
    "start_time": "2024-12-11T05:15:49.361Z"
   },
   {
    "duration": 3,
    "start_time": "2024-12-11T05:15:49.411Z"
   },
   {
    "duration": 3,
    "start_time": "2024-12-11T05:15:49.416Z"
   },
   {
    "duration": 202,
    "start_time": "2024-12-11T05:15:49.422Z"
   },
   {
    "duration": 129,
    "start_time": "2024-12-11T05:15:49.626Z"
   },
   {
    "duration": 239,
    "start_time": "2024-12-11T05:15:49.756Z"
   },
   {
    "duration": 17,
    "start_time": "2024-12-11T05:15:49.996Z"
   },
   {
    "duration": 7,
    "start_time": "2024-12-11T05:15:50.014Z"
   },
   {
    "duration": 171,
    "start_time": "2024-12-11T05:15:50.023Z"
   },
   {
    "duration": 174,
    "start_time": "2024-12-11T05:15:50.196Z"
   },
   {
    "duration": 40,
    "start_time": "2024-12-11T05:15:50.371Z"
   },
   {
    "duration": 44,
    "start_time": "2024-12-11T05:15:50.413Z"
   },
   {
    "duration": 113,
    "start_time": "2024-12-11T05:19:32.749Z"
   },
   {
    "duration": 10,
    "start_time": "2024-12-11T05:23:12.392Z"
   },
   {
    "duration": 11,
    "start_time": "2024-12-11T05:23:21.873Z"
   },
   {
    "duration": 9,
    "start_time": "2024-12-11T05:23:56.453Z"
   },
   {
    "duration": 8,
    "start_time": "2024-12-11T05:32:33.414Z"
   },
   {
    "duration": 4,
    "start_time": "2024-12-11T05:32:42.774Z"
   },
   {
    "duration": 21,
    "start_time": "2024-12-11T05:39:08.955Z"
   },
   {
    "duration": 12,
    "start_time": "2024-12-11T05:39:17.980Z"
   },
   {
    "duration": 4,
    "start_time": "2024-12-11T05:52:03.864Z"
   },
   {
    "duration": 9,
    "start_time": "2024-12-11T05:52:16.468Z"
   },
   {
    "duration": 10,
    "start_time": "2024-12-11T05:53:44.379Z"
   },
   {
    "duration": 5,
    "start_time": "2024-12-11T05:54:03.812Z"
   },
   {
    "duration": 8,
    "start_time": "2024-12-11T06:01:44.213Z"
   },
   {
    "duration": 35,
    "start_time": "2024-12-11T06:02:19.587Z"
   },
   {
    "duration": 43,
    "start_time": "2024-12-11T06:03:04.631Z"
   },
   {
    "duration": 36,
    "start_time": "2024-12-11T06:03:52.081Z"
   },
   {
    "duration": 132,
    "start_time": "2024-12-11T06:04:59.549Z"
   },
   {
    "duration": 117,
    "start_time": "2024-12-11T06:05:55.238Z"
   },
   {
    "duration": 107,
    "start_time": "2024-12-11T06:06:31.049Z"
   },
   {
    "duration": 126,
    "start_time": "2024-12-11T06:07:04.306Z"
   },
   {
    "duration": 111,
    "start_time": "2024-12-11T06:07:59.647Z"
   },
   {
    "duration": 131,
    "start_time": "2024-12-11T06:08:00.617Z"
   },
   {
    "duration": 12,
    "start_time": "2024-12-11T06:13:55.325Z"
   },
   {
    "duration": 8,
    "start_time": "2024-12-11T06:15:50.271Z"
   },
   {
    "duration": 9,
    "start_time": "2024-12-11T06:16:23.806Z"
   },
   {
    "duration": 8,
    "start_time": "2024-12-11T06:16:25.144Z"
   },
   {
    "duration": 313,
    "start_time": "2024-12-11T06:17:22.181Z"
   },
   {
    "duration": 10,
    "start_time": "2024-12-11T06:17:24.260Z"
   },
   {
    "duration": 8,
    "start_time": "2024-12-11T06:17:24.766Z"
   },
   {
    "duration": 13,
    "start_time": "2024-12-11T06:19:13.610Z"
   },
   {
    "duration": 10,
    "start_time": "2024-12-11T06:19:18.819Z"
   },
   {
    "duration": 4,
    "start_time": "2024-12-11T06:19:20.391Z"
   },
   {
    "duration": 156,
    "start_time": "2024-12-12T05:19:53.061Z"
   },
   {
    "duration": 2161,
    "start_time": "2024-12-12T05:20:00.531Z"
   },
   {
    "duration": 1036,
    "start_time": "2024-12-12T05:20:02.694Z"
   },
   {
    "duration": 16,
    "start_time": "2024-12-12T05:20:03.732Z"
   },
   {
    "duration": 9,
    "start_time": "2024-12-12T05:20:03.751Z"
   },
   {
    "duration": 9,
    "start_time": "2024-12-12T05:20:03.761Z"
   },
   {
    "duration": 7,
    "start_time": "2024-12-12T05:20:03.772Z"
   },
   {
    "duration": 23,
    "start_time": "2024-12-12T05:20:03.781Z"
   },
   {
    "duration": 204,
    "start_time": "2024-12-12T05:20:03.806Z"
   },
   {
    "duration": 8,
    "start_time": "2024-12-12T05:20:04.012Z"
   },
   {
    "duration": 106,
    "start_time": "2024-12-12T05:20:04.023Z"
   },
   {
    "duration": 83,
    "start_time": "2024-12-12T05:20:04.130Z"
   },
   {
    "duration": 43,
    "start_time": "2024-12-12T05:20:04.215Z"
   },
   {
    "duration": 19,
    "start_time": "2024-12-12T05:20:04.260Z"
   },
   {
    "duration": 4,
    "start_time": "2024-12-12T05:20:04.280Z"
   },
   {
    "duration": 21,
    "start_time": "2024-12-12T05:20:04.286Z"
   },
   {
    "duration": 34,
    "start_time": "2024-12-12T05:20:04.309Z"
   },
   {
    "duration": 9,
    "start_time": "2024-12-12T05:20:04.345Z"
   },
   {
    "duration": 5,
    "start_time": "2024-12-12T05:20:04.356Z"
   },
   {
    "duration": 4,
    "start_time": "2024-12-12T05:20:04.363Z"
   },
   {
    "duration": 4,
    "start_time": "2024-12-12T05:20:04.369Z"
   },
   {
    "duration": 4,
    "start_time": "2024-12-12T05:20:04.375Z"
   },
   {
    "duration": 4,
    "start_time": "2024-12-12T05:20:04.382Z"
   },
   {
    "duration": 823,
    "start_time": "2024-12-12T05:20:04.388Z"
   },
   {
    "duration": 197,
    "start_time": "2024-12-12T05:20:05.213Z"
   },
   {
    "duration": 218,
    "start_time": "2024-12-12T05:20:05.411Z"
   },
   {
    "duration": 29,
    "start_time": "2024-12-12T05:20:05.631Z"
   },
   {
    "duration": 8,
    "start_time": "2024-12-12T05:20:05.662Z"
   },
   {
    "duration": 4,
    "start_time": "2024-12-12T05:20:05.674Z"
   },
   {
    "duration": 4,
    "start_time": "2024-12-12T05:20:05.680Z"
   },
   {
    "duration": 6,
    "start_time": "2024-12-12T05:20:05.686Z"
   },
   {
    "duration": 7,
    "start_time": "2024-12-12T05:20:05.693Z"
   },
   {
    "duration": 46,
    "start_time": "2024-12-12T05:20:05.703Z"
   },
   {
    "duration": 4,
    "start_time": "2024-12-12T05:20:05.750Z"
   },
   {
    "duration": 3,
    "start_time": "2024-12-12T05:20:05.756Z"
   },
   {
    "duration": 7,
    "start_time": "2024-12-12T05:20:05.761Z"
   },
   {
    "duration": 4,
    "start_time": "2024-12-12T05:20:05.770Z"
   },
   {
    "duration": 5,
    "start_time": "2024-12-12T05:20:05.776Z"
   },
   {
    "duration": 4,
    "start_time": "2024-12-12T05:20:05.782Z"
   },
   {
    "duration": 11,
    "start_time": "2024-12-12T05:20:05.787Z"
   },
   {
    "duration": 45,
    "start_time": "2024-12-12T05:20:05.799Z"
   },
   {
    "duration": 4,
    "start_time": "2024-12-12T05:20:05.846Z"
   },
   {
    "duration": 4,
    "start_time": "2024-12-12T05:20:05.852Z"
   },
   {
    "duration": 222,
    "start_time": "2024-12-12T05:20:05.858Z"
   },
   {
    "duration": 125,
    "start_time": "2024-12-12T05:20:06.082Z"
   },
   {
    "duration": 206,
    "start_time": "2024-12-12T05:20:06.209Z"
   },
   {
    "duration": 8,
    "start_time": "2024-12-12T05:20:06.416Z"
   },
   {
    "duration": 20,
    "start_time": "2024-12-12T05:20:06.425Z"
   },
   {
    "duration": 174,
    "start_time": "2024-12-12T05:20:06.446Z"
   },
   {
    "duration": 171,
    "start_time": "2024-12-12T05:20:06.622Z"
   },
   {
    "duration": 47,
    "start_time": "2024-12-12T05:20:06.795Z"
   },
   {
    "duration": 124,
    "start_time": "2024-12-12T05:20:06.844Z"
   },
   {
    "duration": 9,
    "start_time": "2024-12-12T05:20:06.970Z"
   },
   {
    "duration": 9,
    "start_time": "2024-12-12T05:20:06.980Z"
   },
   {
    "duration": 4,
    "start_time": "2024-12-12T05:20:06.991Z"
   },
   {
    "duration": 157,
    "start_time": "2024-12-12T05:20:06.997Z"
   },
   {
    "duration": 190,
    "start_time": "2024-12-12T05:20:07.155Z"
   },
   {
    "duration": 14,
    "start_time": "2024-12-12T05:20:07.350Z"
   },
   {
    "duration": 10,
    "start_time": "2024-12-12T05:20:07.367Z"
   },
   {
    "duration": 9,
    "start_time": "2024-12-12T05:20:07.378Z"
   },
   {
    "duration": 4,
    "start_time": "2024-12-12T05:20:07.388Z"
   },
   {
    "duration": 4,
    "start_time": "2024-12-12T05:20:07.394Z"
   },
   {
    "duration": 44,
    "start_time": "2024-12-12T05:23:11.626Z"
   },
   {
    "duration": 5,
    "start_time": "2024-12-12T05:23:21.180Z"
   },
   {
    "duration": 7,
    "start_time": "2024-12-12T05:23:42.872Z"
   },
   {
    "duration": 23,
    "start_time": "2024-12-12T05:24:34.771Z"
   },
   {
    "duration": 22,
    "start_time": "2024-12-12T05:25:24.159Z"
   },
   {
    "duration": 23,
    "start_time": "2024-12-12T05:25:55.031Z"
   },
   {
    "duration": 23,
    "start_time": "2024-12-12T05:26:56.015Z"
   },
   {
    "duration": 8,
    "start_time": "2024-12-12T05:27:45.778Z"
   },
   {
    "duration": 23,
    "start_time": "2024-12-12T05:28:36.064Z"
   },
   {
    "duration": 22,
    "start_time": "2024-12-12T05:28:48.690Z"
   },
   {
    "duration": 24,
    "start_time": "2024-12-12T05:29:15.495Z"
   },
   {
    "duration": 13,
    "start_time": "2024-12-12T05:29:39.078Z"
   },
   {
    "duration": 12,
    "start_time": "2024-12-12T05:29:54.831Z"
   },
   {
    "duration": 11,
    "start_time": "2024-12-12T05:30:16.896Z"
   },
   {
    "duration": 34,
    "start_time": "2024-12-12T05:34:34.021Z"
   },
   {
    "duration": 150,
    "start_time": "2024-12-12T05:36:04.235Z"
   },
   {
    "duration": 2136,
    "start_time": "2024-12-12T20:00:01.875Z"
   },
   {
    "duration": 1028,
    "start_time": "2024-12-12T20:00:04.013Z"
   },
   {
    "duration": 12,
    "start_time": "2024-12-12T20:00:05.043Z"
   },
   {
    "duration": 10,
    "start_time": "2024-12-12T20:00:05.057Z"
   },
   {
    "duration": 8,
    "start_time": "2024-12-12T20:00:05.069Z"
   },
   {
    "duration": 35,
    "start_time": "2024-12-12T20:00:05.078Z"
   },
   {
    "duration": 24,
    "start_time": "2024-12-12T20:00:05.114Z"
   },
   {
    "duration": 202,
    "start_time": "2024-12-12T20:00:05.140Z"
   },
   {
    "duration": 9,
    "start_time": "2024-12-12T20:00:05.344Z"
   },
   {
    "duration": 117,
    "start_time": "2024-12-12T20:00:05.355Z"
   },
   {
    "duration": 100,
    "start_time": "2024-12-12T20:00:05.474Z"
   },
   {
    "duration": 38,
    "start_time": "2024-12-12T20:00:05.575Z"
   },
   {
    "duration": 21,
    "start_time": "2024-12-12T20:00:05.880Z"
   },
   {
    "duration": 4,
    "start_time": "2024-12-12T20:00:06.091Z"
   },
   {
    "duration": 25,
    "start_time": "2024-12-12T20:00:06.291Z"
   },
   {
    "duration": 13,
    "start_time": "2024-12-12T20:00:06.495Z"
   },
   {
    "duration": 14,
    "start_time": "2024-12-12T20:00:06.866Z"
   },
   {
    "duration": 8,
    "start_time": "2024-12-12T20:00:07.068Z"
   },
   {
    "duration": 5,
    "start_time": "2024-12-12T20:00:07.455Z"
   },
   {
    "duration": 5,
    "start_time": "2024-12-12T20:00:07.656Z"
   },
   {
    "duration": 5,
    "start_time": "2024-12-12T20:00:08.197Z"
   },
   {
    "duration": 4,
    "start_time": "2024-12-12T20:00:08.370Z"
   },
   {
    "duration": 780,
    "start_time": "2024-12-12T20:00:08.923Z"
   },
   {
    "duration": 209,
    "start_time": "2024-12-12T20:00:09.705Z"
   },
   {
    "duration": 261,
    "start_time": "2024-12-12T20:00:09.916Z"
   },
   {
    "duration": 38,
    "start_time": "2024-12-12T20:00:10.179Z"
   },
   {
    "duration": 8,
    "start_time": "2024-12-12T20:00:10.291Z"
   },
   {
    "duration": 6,
    "start_time": "2024-12-12T20:00:10.689Z"
   },
   {
    "duration": 5,
    "start_time": "2024-12-12T20:00:11.122Z"
   },
   {
    "duration": 7,
    "start_time": "2024-12-12T20:00:11.529Z"
   },
   {
    "duration": 9,
    "start_time": "2024-12-12T20:00:11.940Z"
   },
   {
    "duration": 12,
    "start_time": "2024-12-12T20:00:12.577Z"
   },
   {
    "duration": 4,
    "start_time": "2024-12-12T20:00:12.790Z"
   },
   {
    "duration": 3,
    "start_time": "2024-12-12T20:00:13.687Z"
   },
   {
    "duration": 10,
    "start_time": "2024-12-12T20:00:14.077Z"
   },
   {
    "duration": 6,
    "start_time": "2024-12-12T20:00:14.845Z"
   },
   {
    "duration": 6,
    "start_time": "2024-12-12T20:00:15.170Z"
   },
   {
    "duration": 4,
    "start_time": "2024-12-12T20:00:16.278Z"
   },
   {
    "duration": 11,
    "start_time": "2024-12-12T20:00:16.642Z"
   },
   {
    "duration": 5,
    "start_time": "2024-12-12T20:00:17.456Z"
   },
   {
    "duration": 5,
    "start_time": "2024-12-12T20:00:22.199Z"
   },
   {
    "duration": 4,
    "start_time": "2024-12-12T20:00:22.704Z"
   },
   {
    "duration": 237,
    "start_time": "2024-12-12T20:00:24.904Z"
   },
   {
    "duration": 122,
    "start_time": "2024-12-12T20:00:27.617Z"
   },
   {
    "duration": 196,
    "start_time": "2024-12-12T20:00:28.565Z"
   },
   {
    "duration": 8,
    "start_time": "2024-12-12T20:00:30.265Z"
   },
   {
    "duration": 8,
    "start_time": "2024-12-12T20:00:30.597Z"
   },
   {
    "duration": 170,
    "start_time": "2024-12-12T20:00:31.320Z"
   },
   {
    "duration": 165,
    "start_time": "2024-12-12T20:00:35.641Z"
   },
   {
    "duration": 38,
    "start_time": "2024-12-12T20:00:38.507Z"
   },
   {
    "duration": 115,
    "start_time": "2024-12-12T20:00:39.059Z"
   },
   {
    "duration": 10,
    "start_time": "2024-12-12T20:00:41.271Z"
   },
   {
    "duration": 11,
    "start_time": "2024-12-12T20:00:41.757Z"
   },
   {
    "duration": 5,
    "start_time": "2024-12-12T20:00:43.616Z"
   },
   {
    "duration": 135,
    "start_time": "2024-12-12T20:00:59.314Z"
   },
   {
    "duration": 135,
    "start_time": "2024-12-12T20:01:00.054Z"
   },
   {
    "duration": 13,
    "start_time": "2024-12-12T20:01:31.893Z"
   },
   {
    "duration": 9,
    "start_time": "2024-12-12T20:01:32.944Z"
   },
   {
    "duration": 10,
    "start_time": "2024-12-12T20:01:33.538Z"
   },
   {
    "duration": 5,
    "start_time": "2024-12-12T20:01:35.485Z"
   },
   {
    "duration": 17,
    "start_time": "2024-12-12T20:04:10.446Z"
   },
   {
    "duration": 8,
    "start_time": "2024-12-12T20:04:11.236Z"
   },
   {
    "duration": 14,
    "start_time": "2024-12-12T20:04:11.822Z"
   },
   {
    "duration": 8,
    "start_time": "2024-12-12T20:04:12.357Z"
   },
   {
    "duration": 19,
    "start_time": "2024-12-12T20:21:09.495Z"
   },
   {
    "duration": 22,
    "start_time": "2024-12-12T20:21:14.762Z"
   },
   {
    "duration": 11,
    "start_time": "2024-12-12T20:21:22.834Z"
   },
   {
    "duration": 240,
    "start_time": "2024-12-12T20:22:01.692Z"
   },
   {
    "duration": 13,
    "start_time": "2024-12-12T20:22:25.948Z"
   },
   {
    "duration": 157,
    "start_time": "2024-12-12T20:43:29.737Z"
   },
   {
    "duration": 159,
    "start_time": "2024-12-12T20:43:40.696Z"
   },
   {
    "duration": 151,
    "start_time": "2024-12-12T20:44:11.269Z"
   },
   {
    "duration": 106,
    "start_time": "2024-12-12T20:44:39.006Z"
   },
   {
    "duration": 40,
    "start_time": "2024-12-12T20:44:40.123Z"
   },
   {
    "duration": 12,
    "start_time": "2024-12-12T20:44:40.529Z"
   },
   {
    "duration": 72,
    "start_time": "2024-12-12T21:06:22.191Z"
   },
   {
    "duration": 8,
    "start_time": "2024-12-12T21:44:46.738Z"
   },
   {
    "duration": 6,
    "start_time": "2024-12-13T03:44:04.070Z"
   },
   {
    "duration": 5,
    "start_time": "2024-12-13T04:05:20.919Z"
   },
   {
    "duration": 156,
    "start_time": "2024-12-13T21:39:19.857Z"
   },
   {
    "duration": 2157,
    "start_time": "2024-12-13T21:39:38.216Z"
   },
   {
    "duration": 972,
    "start_time": "2024-12-13T21:39:40.375Z"
   },
   {
    "duration": 11,
    "start_time": "2024-12-13T21:39:41.349Z"
   },
   {
    "duration": 9,
    "start_time": "2024-12-13T21:39:41.363Z"
   },
   {
    "duration": 7,
    "start_time": "2024-12-13T21:39:41.374Z"
   },
   {
    "duration": 7,
    "start_time": "2024-12-13T21:39:41.383Z"
   },
   {
    "duration": 46,
    "start_time": "2024-12-13T21:39:41.392Z"
   },
   {
    "duration": 178,
    "start_time": "2024-12-13T21:39:41.441Z"
   },
   {
    "duration": 9,
    "start_time": "2024-12-13T21:39:41.621Z"
   },
   {
    "duration": 105,
    "start_time": "2024-12-13T21:39:41.633Z"
   },
   {
    "duration": 89,
    "start_time": "2024-12-13T21:39:41.740Z"
   },
   {
    "duration": 28,
    "start_time": "2024-12-13T21:39:41.831Z"
   },
   {
    "duration": 18,
    "start_time": "2024-12-13T21:39:41.861Z"
   },
   {
    "duration": 4,
    "start_time": "2024-12-13T21:39:41.881Z"
   },
   {
    "duration": 45,
    "start_time": "2024-12-13T21:39:41.887Z"
   },
   {
    "duration": 11,
    "start_time": "2024-12-13T21:39:41.934Z"
   },
   {
    "duration": 8,
    "start_time": "2024-12-13T21:39:41.948Z"
   },
   {
    "duration": 5,
    "start_time": "2024-12-13T21:39:41.958Z"
   },
   {
    "duration": 4,
    "start_time": "2024-12-13T21:39:41.964Z"
   },
   {
    "duration": 3,
    "start_time": "2024-12-13T21:39:41.970Z"
   },
   {
    "duration": 5,
    "start_time": "2024-12-13T21:39:41.975Z"
   },
   {
    "duration": 3,
    "start_time": "2024-12-13T21:39:41.982Z"
   },
   {
    "duration": 760,
    "start_time": "2024-12-13T21:39:42.024Z"
   },
   {
    "duration": 163,
    "start_time": "2024-12-13T21:39:42.786Z"
   },
   {
    "duration": 227,
    "start_time": "2024-12-13T21:39:42.951Z"
   },
   {
    "duration": 5,
    "start_time": "2024-12-13T21:39:43.180Z"
   },
   {
    "duration": 0,
    "start_time": "2024-12-13T21:39:43.189Z"
   },
   {
    "duration": 0,
    "start_time": "2024-12-13T21:39:43.191Z"
   },
   {
    "duration": 0,
    "start_time": "2024-12-13T21:39:43.192Z"
   },
   {
    "duration": 0,
    "start_time": "2024-12-13T21:39:43.193Z"
   },
   {
    "duration": 0,
    "start_time": "2024-12-13T21:39:43.194Z"
   },
   {
    "duration": 0,
    "start_time": "2024-12-13T21:39:43.195Z"
   },
   {
    "duration": 0,
    "start_time": "2024-12-13T21:39:43.197Z"
   },
   {
    "duration": 0,
    "start_time": "2024-12-13T21:39:43.198Z"
   },
   {
    "duration": 0,
    "start_time": "2024-12-13T21:39:43.199Z"
   },
   {
    "duration": 0,
    "start_time": "2024-12-13T21:39:43.200Z"
   },
   {
    "duration": 0,
    "start_time": "2024-12-13T21:39:43.224Z"
   },
   {
    "duration": 0,
    "start_time": "2024-12-13T21:39:43.225Z"
   },
   {
    "duration": 0,
    "start_time": "2024-12-13T21:39:43.226Z"
   },
   {
    "duration": 0,
    "start_time": "2024-12-13T21:39:43.227Z"
   },
   {
    "duration": 0,
    "start_time": "2024-12-13T21:39:43.229Z"
   },
   {
    "duration": 0,
    "start_time": "2024-12-13T21:39:43.230Z"
   },
   {
    "duration": 0,
    "start_time": "2024-12-13T21:39:43.231Z"
   },
   {
    "duration": 0,
    "start_time": "2024-12-13T21:39:43.232Z"
   },
   {
    "duration": 0,
    "start_time": "2024-12-13T21:39:43.233Z"
   },
   {
    "duration": 0,
    "start_time": "2024-12-13T21:39:43.235Z"
   },
   {
    "duration": 0,
    "start_time": "2024-12-13T21:39:43.236Z"
   },
   {
    "duration": 0,
    "start_time": "2024-12-13T21:39:43.238Z"
   },
   {
    "duration": 0,
    "start_time": "2024-12-13T21:39:43.239Z"
   },
   {
    "duration": 0,
    "start_time": "2024-12-13T21:39:43.240Z"
   },
   {
    "duration": 0,
    "start_time": "2024-12-13T21:39:43.241Z"
   },
   {
    "duration": 0,
    "start_time": "2024-12-13T21:39:43.242Z"
   },
   {
    "duration": 0,
    "start_time": "2024-12-13T21:39:43.243Z"
   },
   {
    "duration": 0,
    "start_time": "2024-12-13T21:39:43.244Z"
   },
   {
    "duration": 0,
    "start_time": "2024-12-13T21:39:43.245Z"
   },
   {
    "duration": 0,
    "start_time": "2024-12-13T21:39:43.246Z"
   },
   {
    "duration": 0,
    "start_time": "2024-12-13T21:39:43.247Z"
   },
   {
    "duration": 0,
    "start_time": "2024-12-13T21:39:43.248Z"
   },
   {
    "duration": 0,
    "start_time": "2024-12-13T21:39:43.250Z"
   },
   {
    "duration": 0,
    "start_time": "2024-12-13T21:39:43.251Z"
   },
   {
    "duration": 0,
    "start_time": "2024-12-13T21:39:43.252Z"
   },
   {
    "duration": 0,
    "start_time": "2024-12-13T21:39:43.253Z"
   },
   {
    "duration": 0,
    "start_time": "2024-12-13T21:39:43.255Z"
   },
   {
    "duration": 0,
    "start_time": "2024-12-13T21:39:43.256Z"
   },
   {
    "duration": 0,
    "start_time": "2024-12-13T21:39:43.257Z"
   },
   {
    "duration": 0,
    "start_time": "2024-12-13T21:39:43.259Z"
   },
   {
    "duration": 0,
    "start_time": "2024-12-13T21:39:43.260Z"
   },
   {
    "duration": 0,
    "start_time": "2024-12-13T21:39:43.262Z"
   },
   {
    "duration": 0,
    "start_time": "2024-12-13T21:39:43.263Z"
   },
   {
    "duration": 0,
    "start_time": "2024-12-13T21:39:43.324Z"
   },
   {
    "duration": 4,
    "start_time": "2024-12-13T21:40:04.170Z"
   },
   {
    "duration": 10,
    "start_time": "2024-12-13T21:43:54.144Z"
   },
   {
    "duration": 11,
    "start_time": "2024-12-13T21:50:09.474Z"
   },
   {
    "duration": 31,
    "start_time": "2024-12-13T21:55:02.822Z"
   },
   {
    "duration": 43,
    "start_time": "2024-12-13T21:57:07.306Z"
   },
   {
    "duration": 15,
    "start_time": "2024-12-13T21:57:15.009Z"
   },
   {
    "duration": 296,
    "start_time": "2024-12-13T21:57:40.695Z"
   },
   {
    "duration": 32,
    "start_time": "2024-12-13T21:57:54.912Z"
   },
   {
    "duration": 34,
    "start_time": "2024-12-13T22:00:08.156Z"
   },
   {
    "duration": 35,
    "start_time": "2024-12-13T22:01:01.985Z"
   },
   {
    "duration": 33,
    "start_time": "2024-12-13T22:01:08.089Z"
   },
   {
    "duration": 6,
    "start_time": "2024-12-13T22:02:01.318Z"
   },
   {
    "duration": 12,
    "start_time": "2024-12-13T22:03:44.609Z"
   },
   {
    "duration": 11,
    "start_time": "2024-12-13T22:04:55.372Z"
   },
   {
    "duration": 10,
    "start_time": "2024-12-13T22:05:02.475Z"
   },
   {
    "duration": 7,
    "start_time": "2024-12-13T22:05:18.573Z"
   },
   {
    "duration": 12,
    "start_time": "2024-12-13T22:05:43.300Z"
   },
   {
    "duration": 6,
    "start_time": "2024-12-13T22:07:41.582Z"
   },
   {
    "duration": 12,
    "start_time": "2024-12-13T22:07:45.303Z"
   },
   {
    "duration": 6,
    "start_time": "2024-12-13T22:08:20.641Z"
   },
   {
    "duration": 6,
    "start_time": "2024-12-13T22:08:29.304Z"
   },
   {
    "duration": 5,
    "start_time": "2024-12-13T22:10:09.567Z"
   },
   {
    "duration": 8,
    "start_time": "2024-12-14T04:18:55.947Z"
   },
   {
    "duration": 174,
    "start_time": "2024-12-14T04:22:53.152Z"
   },
   {
    "duration": 2088,
    "start_time": "2024-12-14T04:22:58.268Z"
   },
   {
    "duration": 1040,
    "start_time": "2024-12-14T04:23:00.358Z"
   },
   {
    "duration": 13,
    "start_time": "2024-12-14T04:23:01.400Z"
   },
   {
    "duration": 8,
    "start_time": "2024-12-14T04:23:01.415Z"
   },
   {
    "duration": 9,
    "start_time": "2024-12-14T04:23:01.426Z"
   },
   {
    "duration": 7,
    "start_time": "2024-12-14T04:23:01.436Z"
   },
   {
    "duration": 21,
    "start_time": "2024-12-14T04:23:01.445Z"
   },
   {
    "duration": 197,
    "start_time": "2024-12-14T04:23:01.468Z"
   },
   {
    "duration": 8,
    "start_time": "2024-12-14T04:23:01.667Z"
   },
   {
    "duration": 104,
    "start_time": "2024-12-14T04:23:01.677Z"
   },
   {
    "duration": 83,
    "start_time": "2024-12-14T04:23:01.782Z"
   },
   {
    "duration": 28,
    "start_time": "2024-12-14T04:23:01.867Z"
   },
   {
    "duration": 31,
    "start_time": "2024-12-14T04:23:01.897Z"
   },
   {
    "duration": 5,
    "start_time": "2024-12-14T04:23:01.931Z"
   },
   {
    "duration": 21,
    "start_time": "2024-12-14T04:23:01.937Z"
   },
   {
    "duration": 10,
    "start_time": "2024-12-14T04:23:01.959Z"
   },
   {
    "duration": 9,
    "start_time": "2024-12-14T04:23:01.972Z"
   },
   {
    "duration": 31,
    "start_time": "2024-12-14T04:23:01.982Z"
   },
   {
    "duration": 4,
    "start_time": "2024-12-14T04:23:02.014Z"
   },
   {
    "duration": 4,
    "start_time": "2024-12-14T04:23:02.020Z"
   },
   {
    "duration": 4,
    "start_time": "2024-12-14T04:23:02.026Z"
   },
   {
    "duration": 3,
    "start_time": "2024-12-14T04:23:02.032Z"
   },
   {
    "duration": 755,
    "start_time": "2024-12-14T04:23:02.037Z"
   },
   {
    "duration": 158,
    "start_time": "2024-12-14T04:23:02.794Z"
   },
   {
    "duration": 215,
    "start_time": "2024-12-14T04:23:02.954Z"
   },
   {
    "duration": 3,
    "start_time": "2024-12-14T04:23:03.171Z"
   },
   {
    "duration": 0,
    "start_time": "2024-12-14T04:23:03.178Z"
   },
   {
    "duration": 0,
    "start_time": "2024-12-14T04:23:03.180Z"
   },
   {
    "duration": 0,
    "start_time": "2024-12-14T04:23:03.181Z"
   },
   {
    "duration": 0,
    "start_time": "2024-12-14T04:23:03.183Z"
   },
   {
    "duration": 0,
    "start_time": "2024-12-14T04:23:03.184Z"
   },
   {
    "duration": 0,
    "start_time": "2024-12-14T04:23:03.186Z"
   },
   {
    "duration": 0,
    "start_time": "2024-12-14T04:23:03.211Z"
   },
   {
    "duration": 0,
    "start_time": "2024-12-14T04:23:03.213Z"
   },
   {
    "duration": 0,
    "start_time": "2024-12-14T04:23:03.214Z"
   },
   {
    "duration": 0,
    "start_time": "2024-12-14T04:23:03.215Z"
   },
   {
    "duration": 0,
    "start_time": "2024-12-14T04:23:03.216Z"
   },
   {
    "duration": 0,
    "start_time": "2024-12-14T04:23:03.217Z"
   },
   {
    "duration": 0,
    "start_time": "2024-12-14T04:23:03.218Z"
   },
   {
    "duration": 0,
    "start_time": "2024-12-14T04:23:03.220Z"
   },
   {
    "duration": 0,
    "start_time": "2024-12-14T04:23:03.221Z"
   },
   {
    "duration": 0,
    "start_time": "2024-12-14T04:23:03.221Z"
   },
   {
    "duration": 0,
    "start_time": "2024-12-14T04:23:03.223Z"
   },
   {
    "duration": 0,
    "start_time": "2024-12-14T04:23:03.224Z"
   },
   {
    "duration": 0,
    "start_time": "2024-12-14T04:23:03.225Z"
   },
   {
    "duration": 0,
    "start_time": "2024-12-14T04:23:03.226Z"
   },
   {
    "duration": 0,
    "start_time": "2024-12-14T04:23:03.228Z"
   },
   {
    "duration": 0,
    "start_time": "2024-12-14T04:23:03.230Z"
   },
   {
    "duration": 0,
    "start_time": "2024-12-14T04:23:03.231Z"
   },
   {
    "duration": 0,
    "start_time": "2024-12-14T04:23:03.231Z"
   },
   {
    "duration": 0,
    "start_time": "2024-12-14T04:23:03.232Z"
   },
   {
    "duration": 0,
    "start_time": "2024-12-14T04:23:03.234Z"
   },
   {
    "duration": 0,
    "start_time": "2024-12-14T04:23:03.235Z"
   },
   {
    "duration": 0,
    "start_time": "2024-12-14T04:23:03.236Z"
   },
   {
    "duration": 0,
    "start_time": "2024-12-14T04:23:03.237Z"
   },
   {
    "duration": 0,
    "start_time": "2024-12-14T04:23:03.238Z"
   },
   {
    "duration": 0,
    "start_time": "2024-12-14T04:23:03.239Z"
   },
   {
    "duration": 0,
    "start_time": "2024-12-14T04:23:03.240Z"
   },
   {
    "duration": 0,
    "start_time": "2024-12-14T04:23:03.241Z"
   },
   {
    "duration": 0,
    "start_time": "2024-12-14T04:23:03.242Z"
   },
   {
    "duration": 0,
    "start_time": "2024-12-14T04:23:03.244Z"
   },
   {
    "duration": 0,
    "start_time": "2024-12-14T04:23:03.246Z"
   },
   {
    "duration": 0,
    "start_time": "2024-12-14T04:23:03.247Z"
   },
   {
    "duration": 0,
    "start_time": "2024-12-14T04:23:03.249Z"
   },
   {
    "duration": 0,
    "start_time": "2024-12-14T04:23:03.250Z"
   },
   {
    "duration": 0,
    "start_time": "2024-12-14T04:23:03.251Z"
   },
   {
    "duration": 0,
    "start_time": "2024-12-14T04:23:03.312Z"
   },
   {
    "duration": 0,
    "start_time": "2024-12-14T04:23:03.313Z"
   },
   {
    "duration": 0,
    "start_time": "2024-12-14T04:23:03.314Z"
   },
   {
    "duration": 0,
    "start_time": "2024-12-14T04:23:03.315Z"
   },
   {
    "duration": 6,
    "start_time": "2024-12-14T04:23:44.239Z"
   },
   {
    "duration": 9,
    "start_time": "2024-12-14T04:26:50.475Z"
   },
   {
    "duration": 8,
    "start_time": "2024-12-14T04:27:13.315Z"
   },
   {
    "duration": 10,
    "start_time": "2024-12-14T04:27:21.157Z"
   },
   {
    "duration": 5,
    "start_time": "2024-12-14T04:27:54.339Z"
   },
   {
    "duration": 2,
    "start_time": "2024-12-14T04:31:49.838Z"
   },
   {
    "duration": 864,
    "start_time": "2024-12-14T04:31:50.872Z"
   },
   {
    "duration": 10,
    "start_time": "2024-12-14T04:31:51.741Z"
   },
   {
    "duration": 11,
    "start_time": "2024-12-14T04:31:52.476Z"
   },
   {
    "duration": 8,
    "start_time": "2024-12-14T04:31:53.066Z"
   },
   {
    "duration": 8,
    "start_time": "2024-12-14T04:31:53.527Z"
   },
   {
    "duration": 24,
    "start_time": "2024-12-14T04:31:53.894Z"
   },
   {
    "duration": 131,
    "start_time": "2024-12-14T04:31:55.630Z"
   },
   {
    "duration": 8,
    "start_time": "2024-12-14T04:31:56.098Z"
   },
   {
    "duration": 80,
    "start_time": "2024-12-14T04:31:56.555Z"
   },
   {
    "duration": 71,
    "start_time": "2024-12-14T04:31:56.755Z"
   },
   {
    "duration": 28,
    "start_time": "2024-12-14T04:31:56.941Z"
   },
   {
    "duration": 20,
    "start_time": "2024-12-14T04:31:57.635Z"
   },
   {
    "duration": 3,
    "start_time": "2024-12-14T04:31:57.803Z"
   },
   {
    "duration": 22,
    "start_time": "2024-12-14T04:31:57.982Z"
   },
   {
    "duration": 15,
    "start_time": "2024-12-14T04:31:58.153Z"
   },
   {
    "duration": 13,
    "start_time": "2024-12-14T04:31:58.500Z"
   },
   {
    "duration": 10,
    "start_time": "2024-12-14T04:31:58.667Z"
   },
   {
    "duration": 7,
    "start_time": "2024-12-14T04:31:59.186Z"
   },
   {
    "duration": 4,
    "start_time": "2024-12-14T04:31:59.361Z"
   },
   {
    "duration": 4,
    "start_time": "2024-12-14T04:31:59.873Z"
   },
   {
    "duration": 4,
    "start_time": "2024-12-14T04:32:00.048Z"
   },
   {
    "duration": 717,
    "start_time": "2024-12-14T04:32:00.602Z"
   },
   {
    "duration": 153,
    "start_time": "2024-12-14T04:32:01.321Z"
   },
   {
    "duration": 203,
    "start_time": "2024-12-14T04:32:01.476Z"
   },
   {
    "duration": 6,
    "start_time": "2024-12-14T04:32:01.682Z"
   },
   {
    "duration": 39,
    "start_time": "2024-12-14T04:32:17.454Z"
   },
   {
    "duration": 23,
    "start_time": "2024-12-14T04:32:18.169Z"
   },
   {
    "duration": 7,
    "start_time": "2024-12-14T04:32:21.054Z"
   },
   {
    "duration": 6,
    "start_time": "2024-12-14T04:32:21.953Z"
   },
   {
    "duration": 5,
    "start_time": "2024-12-14T04:32:22.945Z"
   },
   {
    "duration": 7,
    "start_time": "2024-12-14T04:42:36.600Z"
   },
   {
    "duration": 7,
    "start_time": "2024-12-14T04:42:38.769Z"
   },
   {
    "duration": 12,
    "start_time": "2024-12-14T04:42:42.063Z"
   },
   {
    "duration": 4,
    "start_time": "2024-12-14T04:42:44.143Z"
   },
   {
    "duration": 3,
    "start_time": "2024-12-14T04:42:46.714Z"
   },
   {
    "duration": 7,
    "start_time": "2024-12-14T04:42:47.323Z"
   },
   {
    "duration": 7,
    "start_time": "2024-12-14T04:42:48.214Z"
   },
   {
    "duration": 7,
    "start_time": "2024-12-14T04:42:48.597Z"
   },
   {
    "duration": 7,
    "start_time": "2024-12-14T04:42:51.090Z"
   },
   {
    "duration": 11,
    "start_time": "2024-12-14T04:42:52.802Z"
   },
   {
    "duration": 12,
    "start_time": "2024-12-14T04:42:56.745Z"
   },
   {
    "duration": 5,
    "start_time": "2024-12-14T04:42:58.467Z"
   },
   {
    "duration": 7,
    "start_time": "2024-12-14T04:43:03.113Z"
   },
   {
    "duration": 8,
    "start_time": "2024-12-14T04:43:03.521Z"
   },
   {
    "duration": 187,
    "start_time": "2024-12-14T04:43:06.827Z"
   },
   {
    "duration": 115,
    "start_time": "2024-12-14T04:43:11.247Z"
   },
   {
    "duration": 196,
    "start_time": "2024-12-14T04:43:13.308Z"
   },
   {
    "duration": 8,
    "start_time": "2024-12-14T04:43:18.831Z"
   },
   {
    "duration": 8,
    "start_time": "2024-12-14T04:43:19.575Z"
   },
   {
    "duration": 159,
    "start_time": "2024-12-14T04:43:20.062Z"
   },
   {
    "duration": 169,
    "start_time": "2024-12-14T04:43:21.407Z"
   },
   {
    "duration": 48,
    "start_time": "2024-12-14T04:48:34.960Z"
   },
   {
    "duration": 232,
    "start_time": "2024-12-14T04:49:29.631Z"
   },
   {
    "duration": 35,
    "start_time": "2024-12-14T04:50:20.789Z"
   },
   {
    "duration": 166,
    "start_time": "2024-12-14T04:50:21.504Z"
   },
   {
    "duration": 9,
    "start_time": "2024-12-14T04:50:25.284Z"
   },
   {
    "duration": 9,
    "start_time": "2024-12-14T04:50:25.963Z"
   },
   {
    "duration": 4,
    "start_time": "2024-12-14T04:50:28.654Z"
   },
   {
    "duration": 209,
    "start_time": "2024-12-14T04:57:56.155Z"
   },
   {
    "duration": 186,
    "start_time": "2024-12-14T04:58:13.555Z"
   },
   {
    "duration": 185,
    "start_time": "2024-12-14T04:58:30.976Z"
   },
   {
    "duration": 184,
    "start_time": "2024-12-14T04:58:39.181Z"
   },
   {
    "duration": 191,
    "start_time": "2024-12-14T04:59:20.906Z"
   },
   {
    "duration": 105,
    "start_time": "2024-12-14T04:59:23.700Z"
   },
   {
    "duration": 129,
    "start_time": "2024-12-14T04:59:24.207Z"
   },
   {
    "duration": 12,
    "start_time": "2024-12-14T04:59:28.104Z"
   },
   {
    "duration": 10,
    "start_time": "2024-12-14T04:59:29.684Z"
   },
   {
    "duration": 9,
    "start_time": "2024-12-14T04:59:31.861Z"
   },
   {
    "duration": 5,
    "start_time": "2024-12-14T04:59:32.365Z"
   },
   {
    "duration": 183,
    "start_time": "2024-12-14T05:00:55.559Z"
   },
   {
    "duration": 189,
    "start_time": "2024-12-14T05:01:25.905Z"
   },
   {
    "duration": 185,
    "start_time": "2024-12-14T05:01:42.864Z"
   },
   {
    "duration": 14,
    "start_time": "2024-12-14T05:02:26.496Z"
   },
   {
    "duration": 15,
    "start_time": "2024-12-14T05:02:32.370Z"
   },
   {
    "duration": 8,
    "start_time": "2024-12-14T05:02:32.760Z"
   },
   {
    "duration": 13,
    "start_time": "2024-12-14T05:02:33.563Z"
   },
   {
    "duration": 8,
    "start_time": "2024-12-14T05:02:34.679Z"
   },
   {
    "duration": 97,
    "start_time": "2024-12-14T05:02:39.310Z"
   },
   {
    "duration": 30,
    "start_time": "2024-12-14T05:02:39.886Z"
   },
   {
    "duration": 11,
    "start_time": "2024-12-14T05:02:40.387Z"
   },
   {
    "duration": 12,
    "start_time": "2024-12-14T05:02:43.427Z"
   },
   {
    "duration": 11,
    "start_time": "2024-12-14T05:02:43.844Z"
   },
   {
    "duration": 199,
    "start_time": "2024-12-14T05:02:44.898Z"
   }
  ],
  "colab": {
   "provenance": []
  },
  "kernelspec": {
   "display_name": "Python 3",
   "language": "python",
   "name": "python3"
  },
  "language_info": {
   "codemirror_mode": {
    "name": "ipython",
    "version": 3
   },
   "file_extension": ".py",
   "mimetype": "text/x-python",
   "name": "python",
   "nbconvert_exporter": "python",
   "pygments_lexer": "ipython3",
   "version": "3.10.6"
  },
  "toc": {
   "base_numbering": 1,
   "nav_menu": {},
   "number_sections": true,
   "sideBar": true,
   "skip_h1_title": true,
   "title_cell": "Table of Contents",
   "title_sidebar": "Contents",
   "toc_cell": false,
   "toc_position": {},
   "toc_section_display": true,
   "toc_window_display": false
  }
 },
 "nbformat": 4,
 "nbformat_minor": 5
}
